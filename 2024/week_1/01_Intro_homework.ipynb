{
 "cells": [
  {
   "cell_type": "markdown",
   "source": [
    "## Homework\n",
    "The goal of this homework is to train a simple model for predicting the duration of a ride - similar to what we did in this module."
   ],
   "metadata": {
    "collapsed": false
   }
  },
  {
   "cell_type": "markdown",
   "source": [
    "### Q1. Downloading the data\n",
    "[The data link address of NYC Dataset](https://www1.nyc.gov/site/tlc/about/tlc-trip-record-data.page)\n",
    "\n",
    "Read the data for January. How many columns are there?"
   ],
   "metadata": {
    "collapsed": false
   }
  },
  {
   "cell_type": "code",
   "source": [
    "# import libraries\n",
    "import pandas as pd\n",
    "import numpy as np\n",
    "# import visualization library\n",
    "import matplotlib.pyplot as plt\n",
    "import seaborn as sns"
   ],
   "metadata": {
    "collapsed": false,
    "ExecuteTime": {
     "end_time": "2024-05-16T15:53:36.717273Z",
     "start_time": "2024-05-16T15:53:36.713732Z"
    }
   },
   "outputs": [],
   "execution_count": 45
  },
  {
   "cell_type": "code",
   "source": [
    "# This is January data of NYC Dataset\n",
    "nyc_df_train = pd.read_parquet(\"../data/yellow_tripdata_2023-01.parquet\")"
   ],
   "metadata": {
    "collapsed": false,
    "ExecuteTime": {
     "end_time": "2024-05-16T15:53:38.223335Z",
     "start_time": "2024-05-16T15:53:37.379449Z"
    }
   },
   "outputs": [],
   "execution_count": 46
  },
  {
   "cell_type": "code",
   "source": [
    "print(\"Number of columns are: \", nyc_df_train.shape[1])"
   ],
   "metadata": {
    "collapsed": false,
    "ExecuteTime": {
     "end_time": "2024-05-16T15:53:38.839280Z",
     "start_time": "2024-05-16T15:53:38.835477Z"
    }
   },
   "outputs": [
    {
     "name": "stdout",
     "output_type": "stream",
     "text": [
      "Number of columns are:  19\n"
     ]
    }
   ],
   "execution_count": 47
  },
  {
   "cell_type": "markdown",
   "source": [
    "### Q2. Computing duration\n",
    "Now let's compute the `duration` variable. It should contain the duration of a ride in minutes.\n",
    "What's the standard deviation of the trips duration in January?\n",
    "\n",
    "Let's first check the info of the dataframe to see the type of `tpep_dropoff_datetime` and `tpep_pickup_datetime` columns"
   ],
   "metadata": {
    "collapsed": false
   }
  },
  {
   "cell_type": "code",
   "source": [
    "nyc_df_train.info()"
   ],
   "metadata": {
    "collapsed": false,
    "ExecuteTime": {
     "end_time": "2024-05-16T15:53:40.574336Z",
     "start_time": "2024-05-16T15:53:40.555580Z"
    }
   },
   "outputs": [
    {
     "name": "stdout",
     "output_type": "stream",
     "text": [
      "<class 'pandas.core.frame.DataFrame'>\n",
      "RangeIndex: 3066766 entries, 0 to 3066765\n",
      "Data columns (total 19 columns):\n",
      " #   Column                 Dtype         \n",
      "---  ------                 -----         \n",
      " 0   VendorID               int64         \n",
      " 1   tpep_pickup_datetime   datetime64[us]\n",
      " 2   tpep_dropoff_datetime  datetime64[us]\n",
      " 3   passenger_count        float64       \n",
      " 4   trip_distance          float64       \n",
      " 5   RatecodeID             float64       \n",
      " 6   store_and_fwd_flag     object        \n",
      " 7   PULocationID           int64         \n",
      " 8   DOLocationID           int64         \n",
      " 9   payment_type           int64         \n",
      " 10  fare_amount            float64       \n",
      " 11  extra                  float64       \n",
      " 12  mta_tax                float64       \n",
      " 13  tip_amount             float64       \n",
      " 14  tolls_amount           float64       \n",
      " 15  improvement_surcharge  float64       \n",
      " 16  total_amount           float64       \n",
      " 17  congestion_surcharge   float64       \n",
      " 18  airport_fee            float64       \n",
      "dtypes: datetime64[us](2), float64(12), int64(4), object(1)\n",
      "memory usage: 444.6+ MB\n"
     ]
    }
   ],
   "execution_count": 48
  },
  {
   "cell_type": "markdown",
   "source": "Since we will find the `duration` of the trips in minutes, the date time type is what we are looking for. We don't need to convert it to datetime type because the tpep_dropoff_datetime and tpep_pickup_datetime columns are already in datetime type. ",
   "metadata": {
    "collapsed": false
   }
  },
  {
   "cell_type": "code",
   "source": [
    "# We need to create a new column named duration and to calculate the duration of the trips, first, we need to subtract the dropoff time from the pickup time\n",
    "nyc_df_train[\"duration\"] = nyc_df_train[\"tpep_dropoff_datetime\"]-nyc_df_train[\"tpep_pickup_datetime\"]\n",
    "# secondly, we need to convert the duration into minutes by dividing total seconds of the duration by 60\n",
    "nyc_df_train.duration = nyc_df_train.duration.apply(lambda td: td.total_seconds()/60)\n",
    "# let's see the first 5 rows of the dataframe\n",
    "nyc_df_train.head()"
   ],
   "metadata": {
    "collapsed": false,
    "ExecuteTime": {
     "end_time": "2024-05-16T15:53:55.780784Z",
     "start_time": "2024-05-16T15:53:42.658651Z"
    }
   },
   "outputs": [
    {
     "data": {
      "text/plain": [
       "   VendorID tpep_pickup_datetime tpep_dropoff_datetime  passenger_count  \\\n",
       "0         2  2023-01-01 00:32:10   2023-01-01 00:40:36              1.0   \n",
       "1         2  2023-01-01 00:55:08   2023-01-01 01:01:27              1.0   \n",
       "2         2  2023-01-01 00:25:04   2023-01-01 00:37:49              1.0   \n",
       "3         1  2023-01-01 00:03:48   2023-01-01 00:13:25              0.0   \n",
       "4         2  2023-01-01 00:10:29   2023-01-01 00:21:19              1.0   \n",
       "\n",
       "   trip_distance  RatecodeID store_and_fwd_flag  PULocationID  DOLocationID  \\\n",
       "0           0.97         1.0                  N           161           141   \n",
       "1           1.10         1.0                  N            43           237   \n",
       "2           2.51         1.0                  N            48           238   \n",
       "3           1.90         1.0                  N           138             7   \n",
       "4           1.43         1.0                  N           107            79   \n",
       "\n",
       "   payment_type  fare_amount  extra  mta_tax  tip_amount  tolls_amount  \\\n",
       "0             2          9.3   1.00      0.5        0.00           0.0   \n",
       "1             1          7.9   1.00      0.5        4.00           0.0   \n",
       "2             1         14.9   1.00      0.5       15.00           0.0   \n",
       "3             1         12.1   7.25      0.5        0.00           0.0   \n",
       "4             1         11.4   1.00      0.5        3.28           0.0   \n",
       "\n",
       "   improvement_surcharge  total_amount  congestion_surcharge  airport_fee  \\\n",
       "0                    1.0         14.30                   2.5         0.00   \n",
       "1                    1.0         16.90                   2.5         0.00   \n",
       "2                    1.0         34.90                   2.5         0.00   \n",
       "3                    1.0         20.85                   0.0         1.25   \n",
       "4                    1.0         19.68                   2.5         0.00   \n",
       "\n",
       "    duration  \n",
       "0   8.433333  \n",
       "1   6.316667  \n",
       "2  12.750000  \n",
       "3   9.616667  \n",
       "4  10.833333  "
      ],
      "text/html": [
       "<div>\n",
       "<style scoped>\n",
       "    .dataframe tbody tr th:only-of-type {\n",
       "        vertical-align: middle;\n",
       "    }\n",
       "\n",
       "    .dataframe tbody tr th {\n",
       "        vertical-align: top;\n",
       "    }\n",
       "\n",
       "    .dataframe thead th {\n",
       "        text-align: right;\n",
       "    }\n",
       "</style>\n",
       "<table border=\"1\" class=\"dataframe\">\n",
       "  <thead>\n",
       "    <tr style=\"text-align: right;\">\n",
       "      <th></th>\n",
       "      <th>VendorID</th>\n",
       "      <th>tpep_pickup_datetime</th>\n",
       "      <th>tpep_dropoff_datetime</th>\n",
       "      <th>passenger_count</th>\n",
       "      <th>trip_distance</th>\n",
       "      <th>RatecodeID</th>\n",
       "      <th>store_and_fwd_flag</th>\n",
       "      <th>PULocationID</th>\n",
       "      <th>DOLocationID</th>\n",
       "      <th>payment_type</th>\n",
       "      <th>fare_amount</th>\n",
       "      <th>extra</th>\n",
       "      <th>mta_tax</th>\n",
       "      <th>tip_amount</th>\n",
       "      <th>tolls_amount</th>\n",
       "      <th>improvement_surcharge</th>\n",
       "      <th>total_amount</th>\n",
       "      <th>congestion_surcharge</th>\n",
       "      <th>airport_fee</th>\n",
       "      <th>duration</th>\n",
       "    </tr>\n",
       "  </thead>\n",
       "  <tbody>\n",
       "    <tr>\n",
       "      <th>0</th>\n",
       "      <td>2</td>\n",
       "      <td>2023-01-01 00:32:10</td>\n",
       "      <td>2023-01-01 00:40:36</td>\n",
       "      <td>1.0</td>\n",
       "      <td>0.97</td>\n",
       "      <td>1.0</td>\n",
       "      <td>N</td>\n",
       "      <td>161</td>\n",
       "      <td>141</td>\n",
       "      <td>2</td>\n",
       "      <td>9.3</td>\n",
       "      <td>1.00</td>\n",
       "      <td>0.5</td>\n",
       "      <td>0.00</td>\n",
       "      <td>0.0</td>\n",
       "      <td>1.0</td>\n",
       "      <td>14.30</td>\n",
       "      <td>2.5</td>\n",
       "      <td>0.00</td>\n",
       "      <td>8.433333</td>\n",
       "    </tr>\n",
       "    <tr>\n",
       "      <th>1</th>\n",
       "      <td>2</td>\n",
       "      <td>2023-01-01 00:55:08</td>\n",
       "      <td>2023-01-01 01:01:27</td>\n",
       "      <td>1.0</td>\n",
       "      <td>1.10</td>\n",
       "      <td>1.0</td>\n",
       "      <td>N</td>\n",
       "      <td>43</td>\n",
       "      <td>237</td>\n",
       "      <td>1</td>\n",
       "      <td>7.9</td>\n",
       "      <td>1.00</td>\n",
       "      <td>0.5</td>\n",
       "      <td>4.00</td>\n",
       "      <td>0.0</td>\n",
       "      <td>1.0</td>\n",
       "      <td>16.90</td>\n",
       "      <td>2.5</td>\n",
       "      <td>0.00</td>\n",
       "      <td>6.316667</td>\n",
       "    </tr>\n",
       "    <tr>\n",
       "      <th>2</th>\n",
       "      <td>2</td>\n",
       "      <td>2023-01-01 00:25:04</td>\n",
       "      <td>2023-01-01 00:37:49</td>\n",
       "      <td>1.0</td>\n",
       "      <td>2.51</td>\n",
       "      <td>1.0</td>\n",
       "      <td>N</td>\n",
       "      <td>48</td>\n",
       "      <td>238</td>\n",
       "      <td>1</td>\n",
       "      <td>14.9</td>\n",
       "      <td>1.00</td>\n",
       "      <td>0.5</td>\n",
       "      <td>15.00</td>\n",
       "      <td>0.0</td>\n",
       "      <td>1.0</td>\n",
       "      <td>34.90</td>\n",
       "      <td>2.5</td>\n",
       "      <td>0.00</td>\n",
       "      <td>12.750000</td>\n",
       "    </tr>\n",
       "    <tr>\n",
       "      <th>3</th>\n",
       "      <td>1</td>\n",
       "      <td>2023-01-01 00:03:48</td>\n",
       "      <td>2023-01-01 00:13:25</td>\n",
       "      <td>0.0</td>\n",
       "      <td>1.90</td>\n",
       "      <td>1.0</td>\n",
       "      <td>N</td>\n",
       "      <td>138</td>\n",
       "      <td>7</td>\n",
       "      <td>1</td>\n",
       "      <td>12.1</td>\n",
       "      <td>7.25</td>\n",
       "      <td>0.5</td>\n",
       "      <td>0.00</td>\n",
       "      <td>0.0</td>\n",
       "      <td>1.0</td>\n",
       "      <td>20.85</td>\n",
       "      <td>0.0</td>\n",
       "      <td>1.25</td>\n",
       "      <td>9.616667</td>\n",
       "    </tr>\n",
       "    <tr>\n",
       "      <th>4</th>\n",
       "      <td>2</td>\n",
       "      <td>2023-01-01 00:10:29</td>\n",
       "      <td>2023-01-01 00:21:19</td>\n",
       "      <td>1.0</td>\n",
       "      <td>1.43</td>\n",
       "      <td>1.0</td>\n",
       "      <td>N</td>\n",
       "      <td>107</td>\n",
       "      <td>79</td>\n",
       "      <td>1</td>\n",
       "      <td>11.4</td>\n",
       "      <td>1.00</td>\n",
       "      <td>0.5</td>\n",
       "      <td>3.28</td>\n",
       "      <td>0.0</td>\n",
       "      <td>1.0</td>\n",
       "      <td>19.68</td>\n",
       "      <td>2.5</td>\n",
       "      <td>0.00</td>\n",
       "      <td>10.833333</td>\n",
       "    </tr>\n",
       "  </tbody>\n",
       "</table>\n",
       "</div>"
      ]
     },
     "execution_count": 49,
     "metadata": {},
     "output_type": "execute_result"
    }
   ],
   "execution_count": 49
  },
  {
   "cell_type": "code",
   "source": [
    "import math\n",
    "\"\"\"\n",
    "The calculation of standard deviation is described as;\n",
    "std = sqrt(mean(x)) ,\n",
    "where x = abs(a - a.mean())**2 . The average squared deviation is typically calculated as x.sum() / N , where N = len(x)\n",
    "\"\"\"\n",
    "\n",
    "# to calculate the standard deviation, we need to calculate the squared deviation.\n",
    "x = abs(nyc_df_train.duration-nyc_df_train.duration.mean())**2\n",
    "# then average squared deviation is calculated as x.sum() / N which is the standard deviation\n",
    "standard_deviation = math.sqrt(x.sum() / len(x))\n",
    "print(f'The standard deviation of the trips duration in January is(by calculating the defined formula): {standard_deviation}')\n",
    "\n",
    "# we can also choose the easy way and use built-in function\n",
    "print(f'The standard deviation of the trips duration in January is(by built-in function): {nyc_df_train.duration.std()}')\n",
    "\n",
    "# 42.59 is the right answer for this question"
   ],
   "metadata": {
    "collapsed": false,
    "ExecuteTime": {
     "end_time": "2024-05-16T15:54:00.226190Z",
     "start_time": "2024-05-16T15:54:00.128791Z"
    }
   },
   "outputs": [
    {
     "name": "stdout",
     "output_type": "stream",
     "text": [
      "The standard deviation of the trips duration in January is(by calculating the defined formula): 42.59434429744777\n",
      "The standard deviation of the trips duration in January is(by built-in function): 42.59435124195458\n"
     ]
    }
   ],
   "execution_count": 50
  },
  {
   "cell_type": "markdown",
   "source": [
    "### Q3. Dropping outliers\n",
    "\n",
    "Next, we need to check the distribution of the `duration` variable. There are some outliers. Let's remove them and keep only the records where the duration was between 1 and 60 minutes (inclusive).\n",
    "\n",
    "What fraction of the records left after you dropped the outliers?"
   ],
   "metadata": {
    "collapsed": false
   }
  },
  {
   "cell_type": "code",
   "source": [
    "# The statistics of the duration column is:\n",
    "nyc_df_train.duration.describe()"
   ],
   "metadata": {
    "collapsed": false,
    "ExecuteTime": {
     "end_time": "2024-05-16T15:54:08.244387Z",
     "start_time": "2024-05-16T15:54:08.108579Z"
    }
   },
   "outputs": [
    {
     "data": {
      "text/plain": [
       "count    3.066766e+06\n",
       "mean     1.566900e+01\n",
       "std      4.259435e+01\n",
       "min     -2.920000e+01\n",
       "25%      7.116667e+00\n",
       "50%      1.151667e+01\n",
       "75%      1.830000e+01\n",
       "max      1.002918e+04\n",
       "Name: duration, dtype: float64"
      ]
     },
     "execution_count": 51,
     "metadata": {},
     "output_type": "execute_result"
    }
   ],
   "execution_count": 51
  },
  {
   "cell_type": "code",
   "source": [
    "# Do we have null values in duration records? No\n",
    "nyc_df_train.isnull().sum()"
   ],
   "metadata": {
    "collapsed": false,
    "ExecuteTime": {
     "end_time": "2024-05-16T15:54:10.483926Z",
     "start_time": "2024-05-16T15:54:09.931182Z"
    }
   },
   "outputs": [
    {
     "data": {
      "text/plain": [
       "VendorID                     0\n",
       "tpep_pickup_datetime         0\n",
       "tpep_dropoff_datetime        0\n",
       "passenger_count          71743\n",
       "trip_distance                0\n",
       "RatecodeID               71743\n",
       "store_and_fwd_flag       71743\n",
       "PULocationID                 0\n",
       "DOLocationID                 0\n",
       "payment_type                 0\n",
       "fare_amount                  0\n",
       "extra                        0\n",
       "mta_tax                      0\n",
       "tip_amount                   0\n",
       "tolls_amount                 0\n",
       "improvement_surcharge        0\n",
       "total_amount                 0\n",
       "congestion_surcharge     71743\n",
       "airport_fee              71743\n",
       "duration                     0\n",
       "dtype: int64"
      ]
     },
     "execution_count": 52,
     "metadata": {},
     "output_type": "execute_result"
    }
   ],
   "execution_count": 52
  },
  {
   "cell_type": "code",
   "source": [
    "# One of the best ways to describe a variable is to report the values that appear in the dataset and how many times each value appears. This is called distribution of the variable.\n",
    "sns.histplot(nyc_df_train.duration)"
   ],
   "metadata": {
    "collapsed": false,
    "ExecuteTime": {
     "end_time": "2024-05-16T15:56:03.483256Z",
     "start_time": "2024-05-16T15:54:12.384020Z"
    }
   },
   "outputs": [
    {
     "data": {
      "text/plain": [
       "<Axes: xlabel='duration', ylabel='Count'>"
      ]
     },
     "execution_count": 53,
     "metadata": {},
     "output_type": "execute_result"
    },
    {
     "data": {
      "text/plain": [
       "<Figure size 640x480 with 1 Axes>"
      ],
      "image/png": "[encoded data removed]"
     },
     "metadata": {},
     "output_type": "display_data"
    }
   ],
   "execution_count": 53
  },
  {
   "cell_type": "code",
   "source": [
    "# Let's calculate the fraction of the records left after dropping outliers.\n",
    "# Save all records before dropping outliers\n",
    "before_dropping_outliers = nyc_df_train.shape[0]\n",
    "# The duration data between 1 and 60 minutes is considered as a reasonable value for the duration of a trip. So, we will filter the data between 1 and 60 minutes.\n",
    "nyc_dataframe = nyc_df_train[(nyc_df_train.duration >= 1) & (nyc_df_train.duration <= 60)]\n",
    "# Save all records after dropping outliers\n",
    "after_dropping_outliers = nyc_dataframe.shape[0]\n",
    "\n",
    "# Calculate the fraction of the records left after dropping outliers by dividing the number of records after dropping outliers to the number of records before dropping outliers and multiply by 100 to get the percentage.\n",
    "fraction_left = (after_dropping_outliers / before_dropping_outliers)*100\n",
    "\n",
    "# Let's look at the duration's hist plot, after dropping outliers\n",
    "print(sns.histplot(nyc_dataframe.duration))\n",
    "\n",
    "print(f\"{fraction_left} of the records left, after dropping outliers\")\n"
   ],
   "metadata": {
    "collapsed": false,
    "ExecuteTime": {
     "end_time": "2024-05-16T15:56:13.059512Z",
     "start_time": "2024-05-16T15:56:08.156774Z"
    }
   },
   "outputs": [
    {
     "name": "stdout",
     "output_type": "stream",
     "text": [
      "Axes(0.125,0.11;0.775x0.77)\n",
      "98.1220282212598 of the records left, after dropping outliers\n"
     ]
    },
    {
     "data": {
      "text/plain": [
       "<Figure size 640x480 with 1 Axes>"
      ],
      "image/png": "[encoded data removed]"
     },
     "metadata": {},
     "output_type": "display_data"
    }
   ],
   "execution_count": 54
  },
  {
   "cell_type": "markdown",
   "source": [
    "### Q4. One-hot encoding\n",
    "\n",
    "Let's apply one-hot encoding to the pickup and dropoff location IDs. We'll use only these two features for our model.\n",
    "* Turn the dataframe into a list of dictionaries (remember to re-cast the ids to strings - otherwise it will label encode them)\n",
    "* Fit a dictionary vectorizer\n",
    "* Get a feature matrix from it\n",
    "\n",
    "What's the dimensionality of this matrix (number of columns)?\n",
    "* 2\n",
    "* 155\n",
    "* 345\n",
    "* 515\n",
    "* 715"
   ],
   "metadata": {
    "collapsed": false
   }
  },
  {
   "cell_type": "markdown",
   "source": [
    "#### 1. Turn the dataframe into a list of dictionaries"
   ],
   "metadata": {
    "collapsed": false
   }
  },
  {
   "cell_type": "code",
   "source": [
    "from sklearn.feature_extraction import DictVectorizer\n",
    "\n",
    "# initialize the Dictionary Vectorizer\n",
    "dv = DictVectorizer()\n",
    "\n",
    "# We will apply one-hot encoding to the pickup and dropoff location IDs.\n",
    "categorical_columns = ['PULocationID', 'DOLocationID']\n",
    "\n",
    "# Create a copy of the DataFrame columns to cast\n",
    "nyc_dataframe_copy = nyc_dataframe[categorical_columns].copy()\n",
    "\n",
    "# Perform the type casting on the copied columns\n",
    "nyc_dataframe_copy = nyc_dataframe_copy.astype(str)\n",
    "\n",
    "# Replace the original columns with the cast columns\n",
    "nyc_dataframe.loc[:, categorical_columns] = nyc_dataframe_copy\n",
    "\n",
    "# and turn selected columns into a list of dictionaries by using to_dict() method with orient='records' parameter.\n",
    "train_dicts = nyc_dataframe[categorical_columns].to_dict(orient='records')"
   ],
   "metadata": {
    "collapsed": false,
    "ExecuteTime": {
     "end_time": "2024-05-16T16:01:13.741964Z",
     "start_time": "2024-05-16T16:01:03.354022Z"
    }
   },
   "outputs": [],
   "execution_count": 57
  },
  {
   "metadata": {
    "ExecuteTime": {
     "end_time": "2024-05-16T16:01:29.680480Z",
     "start_time": "2024-05-16T16:01:29.674186Z"
    }
   },
   "cell_type": "code",
   "source": [
    "# train_dicts contains two categorical columns: 'PULocationID' and 'DOLocationID'. Let's see the first 5 rows of the list of dictionaries. \n",
    "train_dicts[:5]"
   ],
   "outputs": [
    {
     "data": {
      "text/plain": [
       "[{'PULocationID': '161', 'DOLocationID': '141'},\n",
       " {'PULocationID': '43', 'DOLocationID': '237'},\n",
       " {'PULocationID': '48', 'DOLocationID': '238'},\n",
       " {'PULocationID': '138', 'DOLocationID': '7'},\n",
       " {'PULocationID': '107', 'DOLocationID': '79'}]"
      ]
     },
     "execution_count": 58,
     "metadata": {},
     "output_type": "execute_result"
    }
   ],
   "execution_count": 58
  },
  {
   "cell_type": "markdown",
   "source": [
    "#### 2. Fit a dictionary vectorizer"
   ],
   "metadata": {
    "collapsed": false
   }
  },
  {
   "cell_type": "code",
   "source": "X_train = dv.fit_transform(train_dicts)",
   "metadata": {
    "collapsed": false,
    "ExecuteTime": {
     "end_time": "2024-05-16T16:01:39.720692Z",
     "start_time": "2024-05-16T16:01:33.423062Z"
    }
   },
   "outputs": [],
   "execution_count": 59
  },
  {
   "metadata": {},
   "cell_type": "markdown",
   "source": "When you fit the `DictVectorizer` and transform the `train_dicts`, each unique value in these columns will be represented as a binary feature in the resulting matrix `X_train`. The number of columns in this matrix will be equal to the number of unique values in these two columns combined."
  },
  {
   "metadata": {
    "ExecuteTime": {
     "end_time": "2024-05-16T16:01:41.797956Z",
     "start_time": "2024-05-16T16:01:41.791817Z"
    }
   },
   "cell_type": "code",
   "source": [
    "# Let's see the first 5 rows of the feature matrix. The below sparse matrix represents the one-hot encoded features.\n",
    "X_train[:5].toarray()"
   ],
   "outputs": [
    {
     "data": {
      "text/plain": [
       "array([[0., 0., 0., ..., 0., 0., 0.],\n",
       "       [0., 0., 0., ..., 0., 0., 0.],\n",
       "       [0., 0., 0., ..., 0., 0., 0.],\n",
       "       [0., 0., 0., ..., 0., 0., 0.],\n",
       "       [0., 0., 0., ..., 0., 0., 0.]])"
      ]
     },
     "execution_count": 60,
     "metadata": {},
     "output_type": "execute_result"
    }
   ],
   "execution_count": 60
  },
  {
   "metadata": {
    "ExecuteTime": {
     "end_time": "2024-05-16T16:01:48.367117Z",
     "start_time": "2024-05-16T16:01:48.360526Z"
    }
   },
   "cell_type": "code",
   "source": [
    "# We can also inspect the feature names created by DictVectorizer to understand the exact mapping of columns to categories.\n",
    "print(dv.get_feature_names_out())"
   ],
   "outputs": [
    {
     "name": "stdout",
     "output_type": "stream",
     "text": [
      "['DOLocationID=1' 'DOLocationID=10' 'DOLocationID=100' 'DOLocationID=101'\n",
      " 'DOLocationID=102' 'DOLocationID=106' 'DOLocationID=107'\n",
      " 'DOLocationID=108' 'DOLocationID=109' 'DOLocationID=11'\n",
      " 'DOLocationID=111' 'DOLocationID=112' 'DOLocationID=113'\n",
      " 'DOLocationID=114' 'DOLocationID=115' 'DOLocationID=116'\n",
      " 'DOLocationID=117' 'DOLocationID=118' 'DOLocationID=119'\n",
      " 'DOLocationID=12' 'DOLocationID=120' 'DOLocationID=121'\n",
      " 'DOLocationID=122' 'DOLocationID=123' 'DOLocationID=124'\n",
      " 'DOLocationID=125' 'DOLocationID=126' 'DOLocationID=127'\n",
      " 'DOLocationID=128' 'DOLocationID=129' 'DOLocationID=13'\n",
      " 'DOLocationID=130' 'DOLocationID=131' 'DOLocationID=132'\n",
      " 'DOLocationID=133' 'DOLocationID=134' 'DOLocationID=135'\n",
      " 'DOLocationID=136' 'DOLocationID=137' 'DOLocationID=138'\n",
      " 'DOLocationID=139' 'DOLocationID=14' 'DOLocationID=140'\n",
      " 'DOLocationID=141' 'DOLocationID=142' 'DOLocationID=143'\n",
      " 'DOLocationID=144' 'DOLocationID=145' 'DOLocationID=146'\n",
      " 'DOLocationID=147' 'DOLocationID=148' 'DOLocationID=149'\n",
      " 'DOLocationID=15' 'DOLocationID=150' 'DOLocationID=151'\n",
      " 'DOLocationID=152' 'DOLocationID=153' 'DOLocationID=154'\n",
      " 'DOLocationID=155' 'DOLocationID=156' 'DOLocationID=157'\n",
      " 'DOLocationID=158' 'DOLocationID=159' 'DOLocationID=16'\n",
      " 'DOLocationID=160' 'DOLocationID=161' 'DOLocationID=162'\n",
      " 'DOLocationID=163' 'DOLocationID=164' 'DOLocationID=165'\n",
      " 'DOLocationID=166' 'DOLocationID=167' 'DOLocationID=168'\n",
      " 'DOLocationID=169' 'DOLocationID=17' 'DOLocationID=170'\n",
      " 'DOLocationID=171' 'DOLocationID=172' 'DOLocationID=173'\n",
      " 'DOLocationID=174' 'DOLocationID=175' 'DOLocationID=176'\n",
      " 'DOLocationID=177' 'DOLocationID=178' 'DOLocationID=179'\n",
      " 'DOLocationID=18' 'DOLocationID=180' 'DOLocationID=181'\n",
      " 'DOLocationID=182' 'DOLocationID=183' 'DOLocationID=184'\n",
      " 'DOLocationID=185' 'DOLocationID=186' 'DOLocationID=187'\n",
      " 'DOLocationID=188' 'DOLocationID=189' 'DOLocationID=19'\n",
      " 'DOLocationID=190' 'DOLocationID=191' 'DOLocationID=192'\n",
      " 'DOLocationID=193' 'DOLocationID=194' 'DOLocationID=195'\n",
      " 'DOLocationID=196' 'DOLocationID=197' 'DOLocationID=198' 'DOLocationID=2'\n",
      " 'DOLocationID=20' 'DOLocationID=200' 'DOLocationID=201'\n",
      " 'DOLocationID=202' 'DOLocationID=203' 'DOLocationID=204'\n",
      " 'DOLocationID=205' 'DOLocationID=206' 'DOLocationID=207'\n",
      " 'DOLocationID=208' 'DOLocationID=209' 'DOLocationID=21'\n",
      " 'DOLocationID=210' 'DOLocationID=211' 'DOLocationID=212'\n",
      " 'DOLocationID=213' 'DOLocationID=214' 'DOLocationID=215'\n",
      " 'DOLocationID=216' 'DOLocationID=217' 'DOLocationID=218'\n",
      " 'DOLocationID=219' 'DOLocationID=22' 'DOLocationID=220'\n",
      " 'DOLocationID=221' 'DOLocationID=222' 'DOLocationID=223'\n",
      " 'DOLocationID=224' 'DOLocationID=225' 'DOLocationID=226'\n",
      " 'DOLocationID=227' 'DOLocationID=228' 'DOLocationID=229'\n",
      " 'DOLocationID=23' 'DOLocationID=230' 'DOLocationID=231'\n",
      " 'DOLocationID=232' 'DOLocationID=233' 'DOLocationID=234'\n",
      " 'DOLocationID=235' 'DOLocationID=236' 'DOLocationID=237'\n",
      " 'DOLocationID=238' 'DOLocationID=239' 'DOLocationID=24'\n",
      " 'DOLocationID=240' 'DOLocationID=241' 'DOLocationID=242'\n",
      " 'DOLocationID=243' 'DOLocationID=244' 'DOLocationID=245'\n",
      " 'DOLocationID=246' 'DOLocationID=247' 'DOLocationID=248'\n",
      " 'DOLocationID=249' 'DOLocationID=25' 'DOLocationID=250'\n",
      " 'DOLocationID=251' 'DOLocationID=252' 'DOLocationID=253'\n",
      " 'DOLocationID=254' 'DOLocationID=255' 'DOLocationID=256'\n",
      " 'DOLocationID=257' 'DOLocationID=258' 'DOLocationID=259'\n",
      " 'DOLocationID=26' 'DOLocationID=260' 'DOLocationID=261'\n",
      " 'DOLocationID=262' 'DOLocationID=263' 'DOLocationID=264'\n",
      " 'DOLocationID=265' 'DOLocationID=27' 'DOLocationID=28' 'DOLocationID=29'\n",
      " 'DOLocationID=3' 'DOLocationID=30' 'DOLocationID=31' 'DOLocationID=32'\n",
      " 'DOLocationID=33' 'DOLocationID=34' 'DOLocationID=35' 'DOLocationID=36'\n",
      " 'DOLocationID=37' 'DOLocationID=38' 'DOLocationID=39' 'DOLocationID=4'\n",
      " 'DOLocationID=40' 'DOLocationID=41' 'DOLocationID=42' 'DOLocationID=43'\n",
      " 'DOLocationID=44' 'DOLocationID=45' 'DOLocationID=46' 'DOLocationID=47'\n",
      " 'DOLocationID=48' 'DOLocationID=49' 'DOLocationID=5' 'DOLocationID=50'\n",
      " 'DOLocationID=51' 'DOLocationID=52' 'DOLocationID=53' 'DOLocationID=54'\n",
      " 'DOLocationID=55' 'DOLocationID=56' 'DOLocationID=57' 'DOLocationID=58'\n",
      " 'DOLocationID=59' 'DOLocationID=6' 'DOLocationID=60' 'DOLocationID=61'\n",
      " 'DOLocationID=62' 'DOLocationID=63' 'DOLocationID=64' 'DOLocationID=65'\n",
      " 'DOLocationID=66' 'DOLocationID=67' 'DOLocationID=68' 'DOLocationID=69'\n",
      " 'DOLocationID=7' 'DOLocationID=70' 'DOLocationID=71' 'DOLocationID=72'\n",
      " 'DOLocationID=73' 'DOLocationID=74' 'DOLocationID=75' 'DOLocationID=76'\n",
      " 'DOLocationID=77' 'DOLocationID=78' 'DOLocationID=79' 'DOLocationID=8'\n",
      " 'DOLocationID=80' 'DOLocationID=81' 'DOLocationID=82' 'DOLocationID=83'\n",
      " 'DOLocationID=84' 'DOLocationID=85' 'DOLocationID=86' 'DOLocationID=87'\n",
      " 'DOLocationID=88' 'DOLocationID=89' 'DOLocationID=9' 'DOLocationID=90'\n",
      " 'DOLocationID=91' 'DOLocationID=92' 'DOLocationID=93' 'DOLocationID=94'\n",
      " 'DOLocationID=95' 'DOLocationID=96' 'DOLocationID=97' 'DOLocationID=98'\n",
      " 'DOLocationID=99' 'PULocationID=1' 'PULocationID=10' 'PULocationID=100'\n",
      " 'PULocationID=101' 'PULocationID=102' 'PULocationID=106'\n",
      " 'PULocationID=107' 'PULocationID=108' 'PULocationID=109'\n",
      " 'PULocationID=11' 'PULocationID=111' 'PULocationID=112'\n",
      " 'PULocationID=113' 'PULocationID=114' 'PULocationID=115'\n",
      " 'PULocationID=116' 'PULocationID=117' 'PULocationID=118'\n",
      " 'PULocationID=119' 'PULocationID=12' 'PULocationID=120'\n",
      " 'PULocationID=121' 'PULocationID=122' 'PULocationID=123'\n",
      " 'PULocationID=124' 'PULocationID=125' 'PULocationID=126'\n",
      " 'PULocationID=127' 'PULocationID=128' 'PULocationID=129'\n",
      " 'PULocationID=13' 'PULocationID=130' 'PULocationID=131'\n",
      " 'PULocationID=132' 'PULocationID=133' 'PULocationID=134'\n",
      " 'PULocationID=135' 'PULocationID=136' 'PULocationID=137'\n",
      " 'PULocationID=138' 'PULocationID=139' 'PULocationID=14'\n",
      " 'PULocationID=140' 'PULocationID=141' 'PULocationID=142'\n",
      " 'PULocationID=143' 'PULocationID=144' 'PULocationID=145'\n",
      " 'PULocationID=146' 'PULocationID=147' 'PULocationID=148'\n",
      " 'PULocationID=149' 'PULocationID=15' 'PULocationID=150'\n",
      " 'PULocationID=151' 'PULocationID=152' 'PULocationID=153'\n",
      " 'PULocationID=154' 'PULocationID=155' 'PULocationID=156'\n",
      " 'PULocationID=157' 'PULocationID=158' 'PULocationID=159'\n",
      " 'PULocationID=16' 'PULocationID=160' 'PULocationID=161'\n",
      " 'PULocationID=162' 'PULocationID=163' 'PULocationID=164'\n",
      " 'PULocationID=165' 'PULocationID=166' 'PULocationID=167'\n",
      " 'PULocationID=168' 'PULocationID=169' 'PULocationID=17'\n",
      " 'PULocationID=170' 'PULocationID=171' 'PULocationID=172'\n",
      " 'PULocationID=173' 'PULocationID=174' 'PULocationID=175'\n",
      " 'PULocationID=177' 'PULocationID=178' 'PULocationID=179'\n",
      " 'PULocationID=18' 'PULocationID=180' 'PULocationID=181'\n",
      " 'PULocationID=182' 'PULocationID=183' 'PULocationID=184'\n",
      " 'PULocationID=185' 'PULocationID=186' 'PULocationID=187'\n",
      " 'PULocationID=188' 'PULocationID=189' 'PULocationID=19'\n",
      " 'PULocationID=190' 'PULocationID=191' 'PULocationID=192'\n",
      " 'PULocationID=193' 'PULocationID=194' 'PULocationID=195'\n",
      " 'PULocationID=196' 'PULocationID=197' 'PULocationID=198'\n",
      " 'PULocationID=199' 'PULocationID=2' 'PULocationID=20' 'PULocationID=200'\n",
      " 'PULocationID=201' 'PULocationID=202' 'PULocationID=203'\n",
      " 'PULocationID=205' 'PULocationID=206' 'PULocationID=207'\n",
      " 'PULocationID=208' 'PULocationID=209' 'PULocationID=21'\n",
      " 'PULocationID=210' 'PULocationID=211' 'PULocationID=212'\n",
      " 'PULocationID=213' 'PULocationID=214' 'PULocationID=215'\n",
      " 'PULocationID=216' 'PULocationID=217' 'PULocationID=218'\n",
      " 'PULocationID=219' 'PULocationID=22' 'PULocationID=220'\n",
      " 'PULocationID=221' 'PULocationID=222' 'PULocationID=223'\n",
      " 'PULocationID=224' 'PULocationID=225' 'PULocationID=226'\n",
      " 'PULocationID=227' 'PULocationID=228' 'PULocationID=229'\n",
      " 'PULocationID=23' 'PULocationID=230' 'PULocationID=231'\n",
      " 'PULocationID=232' 'PULocationID=233' 'PULocationID=234'\n",
      " 'PULocationID=235' 'PULocationID=236' 'PULocationID=237'\n",
      " 'PULocationID=238' 'PULocationID=239' 'PULocationID=24'\n",
      " 'PULocationID=240' 'PULocationID=241' 'PULocationID=242'\n",
      " 'PULocationID=243' 'PULocationID=244' 'PULocationID=245'\n",
      " 'PULocationID=246' 'PULocationID=247' 'PULocationID=248'\n",
      " 'PULocationID=249' 'PULocationID=25' 'PULocationID=250'\n",
      " 'PULocationID=251' 'PULocationID=252' 'PULocationID=253'\n",
      " 'PULocationID=254' 'PULocationID=255' 'PULocationID=256'\n",
      " 'PULocationID=257' 'PULocationID=258' 'PULocationID=259'\n",
      " 'PULocationID=26' 'PULocationID=260' 'PULocationID=261'\n",
      " 'PULocationID=262' 'PULocationID=263' 'PULocationID=264'\n",
      " 'PULocationID=265' 'PULocationID=28' 'PULocationID=29' 'PULocationID=3'\n",
      " 'PULocationID=30' 'PULocationID=31' 'PULocationID=32' 'PULocationID=33'\n",
      " 'PULocationID=34' 'PULocationID=35' 'PULocationID=36' 'PULocationID=37'\n",
      " 'PULocationID=38' 'PULocationID=39' 'PULocationID=4' 'PULocationID=40'\n",
      " 'PULocationID=41' 'PULocationID=42' 'PULocationID=43' 'PULocationID=44'\n",
      " 'PULocationID=45' 'PULocationID=46' 'PULocationID=47' 'PULocationID=48'\n",
      " 'PULocationID=49' 'PULocationID=5' 'PULocationID=50' 'PULocationID=51'\n",
      " 'PULocationID=52' 'PULocationID=53' 'PULocationID=54' 'PULocationID=55'\n",
      " 'PULocationID=56' 'PULocationID=57' 'PULocationID=58' 'PULocationID=6'\n",
      " 'PULocationID=60' 'PULocationID=61' 'PULocationID=62' 'PULocationID=63'\n",
      " 'PULocationID=64' 'PULocationID=65' 'PULocationID=66' 'PULocationID=67'\n",
      " 'PULocationID=68' 'PULocationID=69' 'PULocationID=7' 'PULocationID=70'\n",
      " 'PULocationID=71' 'PULocationID=72' 'PULocationID=73' 'PULocationID=74'\n",
      " 'PULocationID=75' 'PULocationID=76' 'PULocationID=77' 'PULocationID=78'\n",
      " 'PULocationID=79' 'PULocationID=8' 'PULocationID=80' 'PULocationID=81'\n",
      " 'PULocationID=82' 'PULocationID=83' 'PULocationID=85' 'PULocationID=86'\n",
      " 'PULocationID=87' 'PULocationID=88' 'PULocationID=89' 'PULocationID=9'\n",
      " 'PULocationID=90' 'PULocationID=91' 'PULocationID=92' 'PULocationID=93'\n",
      " 'PULocationID=94' 'PULocationID=95' 'PULocationID=96' 'PULocationID=97'\n",
      " 'PULocationID=98']\n"
     ]
    }
   ],
   "execution_count": 61
  },
  {
   "metadata": {},
   "cell_type": "markdown",
   "source": "#### 3. Get a feature matrix from it"
  },
  {
   "cell_type": "code",
   "source": [
    "print(f\"The dimensionality of this matrix is, {X_train.shape}\")"
   ],
   "metadata": {
    "collapsed": false,
    "ExecuteTime": {
     "end_time": "2024-05-16T16:01:58.422762Z",
     "start_time": "2024-05-16T16:01:58.418481Z"
    }
   },
   "outputs": [
    {
     "name": "stdout",
     "output_type": "stream",
     "text": [
      "The dimensionality of this matrix is, (3009173, 515)\n"
     ]
    }
   ],
   "execution_count": 62
  },
  {
   "cell_type": "code",
   "source": [
    "print(f\"The number of columns of this matrix is, {X_train.shape[1]}\")"
   ],
   "metadata": {
    "collapsed": false,
    "ExecuteTime": {
     "end_time": "2024-05-16T16:01:59.576145Z",
     "start_time": "2024-05-16T16:01:59.570802Z"
    }
   },
   "outputs": [
    {
     "name": "stdout",
     "output_type": "stream",
     "text": [
      "The number of columns of this matrix is, 515\n"
     ]
    }
   ],
   "execution_count": 63
  },
  {
   "cell_type": "markdown",
   "source": [
    "### Q5. Training a model\n",
    "Now let's use the feature matrix from the previous step to train a model. What's the RMSE on train?\n",
    "* Train a plain linear regression model with default parameters\n",
    "* Calculate the RMSE of the model on the training data\n",
    "      \n",
    "What's the RMSE on train?\n",
    "* 3.64\n",
    "* 7.64\n",
    "* 11.64\n",
    "* 16.64"
   ],
   "metadata": {
    "collapsed": false
   }
  },
  {
   "cell_type": "code",
   "source": [
    "# import Linear Regression and mean_squared_error from sklearn\n",
    "from sklearn.linear_model import LinearRegression\n",
    "from sklearn.metrics import root_mean_squared_error\n",
    "\n",
    "# initialize linear regression\n",
    "lr = LinearRegression()\n",
    "\n",
    "# define target field\n",
    "y = 'duration'\n",
    "\n",
    "# select target values from original dataframe to train\n",
    "y_train = nyc_dataframe[y].values\n",
    "# fit the model\n",
    "lr.fit(X_train, y_train)"
   ],
   "metadata": {
    "collapsed": false,
    "ExecuteTime": {
     "end_time": "2024-05-16T16:04:56.030585Z",
     "start_time": "2024-05-16T16:04:10.724797Z"
    }
   },
   "outputs": [
    {
     "data": {
      "text/plain": [
       "LinearRegression()"
      ],
      "text/html": [
       "<style>#sk-container-id-3 {\n",
       "  /* Definition of color scheme common for light and dark mode */\n",
       "  --sklearn-color-text: black;\n",
       "  --sklearn-color-line: gray;\n",
       "  /* Definition of color scheme for unfitted estimators */\n",
       "  --sklearn-color-unfitted-level-0: #fff5e6;\n",
       "  --sklearn-color-unfitted-level-1: #f6e4d2;\n",
       "  --sklearn-color-unfitted-level-2: #ffe0b3;\n",
       "  --sklearn-color-unfitted-level-3: chocolate;\n",
       "  /* Definition of color scheme for fitted estimators */\n",
       "  --sklearn-color-fitted-level-0: #f0f8ff;\n",
       "  --sklearn-color-fitted-level-1: #d4ebff;\n",
       "  --sklearn-color-fitted-level-2: #b3dbfd;\n",
       "  --sklearn-color-fitted-level-3: cornflowerblue;\n",
       "\n",
       "  /* Specific color for light theme */\n",
       "  --sklearn-color-text-on-default-background: var(--sg-text-color, var(--theme-code-foreground, var(--jp-content-font-color1, black)));\n",
       "  --sklearn-color-background: var(--sg-background-color, var(--theme-background, var(--jp-layout-color0, white)));\n",
       "  --sklearn-color-border-box: var(--sg-text-color, var(--theme-code-foreground, var(--jp-content-font-color1, black)));\n",
       "  --sklearn-color-icon: #696969;\n",
       "\n",
       "  @media (prefers-color-scheme: dark) {\n",
       "    /* Redefinition of color scheme for dark theme */\n",
       "    --sklearn-color-text-on-default-background: var(--sg-text-color, var(--theme-code-foreground, var(--jp-content-font-color1, white)));\n",
       "    --sklearn-color-background: var(--sg-background-color, var(--theme-background, var(--jp-layout-color0, #111)));\n",
       "    --sklearn-color-border-box: var(--sg-text-color, var(--theme-code-foreground, var(--jp-content-font-color1, white)));\n",
       "    --sklearn-color-icon: #878787;\n",
       "  }\n",
       "}\n",
       "\n",
       "#sk-container-id-3 {\n",
       "  color: var(--sklearn-color-text);\n",
       "}\n",
       "\n",
       "#sk-container-id-3 pre {\n",
       "  padding: 0;\n",
       "}\n",
       "\n",
       "#sk-container-id-3 input.sk-hidden--visually {\n",
       "  border: 0;\n",
       "  clip: rect(1px 1px 1px 1px);\n",
       "  clip: rect(1px, 1px, 1px, 1px);\n",
       "  height: 1px;\n",
       "  margin: -1px;\n",
       "  overflow: hidden;\n",
       "  padding: 0;\n",
       "  position: absolute;\n",
       "  width: 1px;\n",
       "}\n",
       "\n",
       "#sk-container-id-3 div.sk-dashed-wrapped {\n",
       "  border: 1px dashed var(--sklearn-color-line);\n",
       "  margin: 0 0.4em 0.5em 0.4em;\n",
       "  box-sizing: border-box;\n",
       "  padding-bottom: 0.4em;\n",
       "  background-color: var(--sklearn-color-background);\n",
       "}\n",
       "\n",
       "#sk-container-id-3 div.sk-container {\n",
       "  /* jupyter's `normalize.less` sets `[hidden] { display: none; }`\n",
       "     but bootstrap.min.css set `[hidden] { display: none !important; }`\n",
       "     so we also need the `!important` here to be able to override the\n",
       "     default hidden behavior on the sphinx rendered scikit-learn.org.\n",
       "     See: https://github.com/scikit-learn/scikit-learn/issues/21755 */\n",
       "  display: inline-block !important;\n",
       "  position: relative;\n",
       "}\n",
       "\n",
       "#sk-container-id-3 div.sk-text-repr-fallback {\n",
       "  display: none;\n",
       "}\n",
       "\n",
       "div.sk-parallel-item,\n",
       "div.sk-serial,\n",
       "div.sk-item {\n",
       "  /* draw centered vertical line to link estimators */\n",
       "  background-image: linear-gradient(var(--sklearn-color-text-on-default-background), var(--sklearn-color-text-on-default-background));\n",
       "  background-size: 2px 100%;\n",
       "  background-repeat: no-repeat;\n",
       "  background-position: center center;\n",
       "}\n",
       "\n",
       "/* Parallel-specific style estimator block */\n",
       "\n",
       "#sk-container-id-3 div.sk-parallel-item::after {\n",
       "  content: \"\";\n",
       "  width: 100%;\n",
       "  border-bottom: 2px solid var(--sklearn-color-text-on-default-background);\n",
       "  flex-grow: 1;\n",
       "}\n",
       "\n",
       "#sk-container-id-3 div.sk-parallel {\n",
       "  display: flex;\n",
       "  align-items: stretch;\n",
       "  justify-content: center;\n",
       "  background-color: var(--sklearn-color-background);\n",
       "  position: relative;\n",
       "}\n",
       "\n",
       "#sk-container-id-3 div.sk-parallel-item {\n",
       "  display: flex;\n",
       "  flex-direction: column;\n",
       "}\n",
       "\n",
       "#sk-container-id-3 div.sk-parallel-item:first-child::after {\n",
       "  align-self: flex-end;\n",
       "  width: 50%;\n",
       "}\n",
       "\n",
       "#sk-container-id-3 div.sk-parallel-item:last-child::after {\n",
       "  align-self: flex-start;\n",
       "  width: 50%;\n",
       "}\n",
       "\n",
       "#sk-container-id-3 div.sk-parallel-item:only-child::after {\n",
       "  width: 0;\n",
       "}\n",
       "\n",
       "/* Serial-specific style estimator block */\n",
       "\n",
       "#sk-container-id-3 div.sk-serial {\n",
       "  display: flex;\n",
       "  flex-direction: column;\n",
       "  align-items: center;\n",
       "  background-color: var(--sklearn-color-background);\n",
       "  padding-right: 1em;\n",
       "  padding-left: 1em;\n",
       "}\n",
       "\n",
       "\n",
       "/* Toggleable style: style used for estimator/Pipeline/ColumnTransformer box that is\n",
       "clickable and can be expanded/collapsed.\n",
       "- Pipeline and ColumnTransformer use this feature and define the default style\n",
       "- Estimators will overwrite some part of the style using the `sk-estimator` class\n",
       "*/\n",
       "\n",
       "/* Pipeline and ColumnTransformer style (default) */\n",
       "\n",
       "#sk-container-id-3 div.sk-toggleable {\n",
       "  /* Default theme specific background. It is overwritten whether we have a\n",
       "  specific estimator or a Pipeline/ColumnTransformer */\n",
       "  background-color: var(--sklearn-color-background);\n",
       "}\n",
       "\n",
       "/* Toggleable label */\n",
       "#sk-container-id-3 label.sk-toggleable__label {\n",
       "  cursor: pointer;\n",
       "  display: block;\n",
       "  width: 100%;\n",
       "  margin-bottom: 0;\n",
       "  padding: 0.5em;\n",
       "  box-sizing: border-box;\n",
       "  text-align: center;\n",
       "}\n",
       "\n",
       "#sk-container-id-3 label.sk-toggleable__label-arrow:before {\n",
       "  /* Arrow on the left of the label */\n",
       "  content: \"▸\";\n",
       "  float: left;\n",
       "  margin-right: 0.25em;\n",
       "  color: var(--sklearn-color-icon);\n",
       "}\n",
       "\n",
       "#sk-container-id-3 label.sk-toggleable__label-arrow:hover:before {\n",
       "  color: var(--sklearn-color-text);\n",
       "}\n",
       "\n",
       "/* Toggleable content - dropdown */\n",
       "\n",
       "#sk-container-id-3 div.sk-toggleable__content {\n",
       "  max-height: 0;\n",
       "  max-width: 0;\n",
       "  overflow: hidden;\n",
       "  text-align: left;\n",
       "  /* unfitted */\n",
       "  background-color: var(--sklearn-color-unfitted-level-0);\n",
       "}\n",
       "\n",
       "#sk-container-id-3 div.sk-toggleable__content.fitted {\n",
       "  /* fitted */\n",
       "  background-color: var(--sklearn-color-fitted-level-0);\n",
       "}\n",
       "\n",
       "#sk-container-id-3 div.sk-toggleable__content pre {\n",
       "  margin: 0.2em;\n",
       "  border-radius: 0.25em;\n",
       "  color: var(--sklearn-color-text);\n",
       "  /* unfitted */\n",
       "  background-color: var(--sklearn-color-unfitted-level-0);\n",
       "}\n",
       "\n",
       "#sk-container-id-3 div.sk-toggleable__content.fitted pre {\n",
       "  /* unfitted */\n",
       "  background-color: var(--sklearn-color-fitted-level-0);\n",
       "}\n",
       "\n",
       "#sk-container-id-3 input.sk-toggleable__control:checked~div.sk-toggleable__content {\n",
       "  /* Expand drop-down */\n",
       "  max-height: 200px;\n",
       "  max-width: 100%;\n",
       "  overflow: auto;\n",
       "}\n",
       "\n",
       "#sk-container-id-3 input.sk-toggleable__control:checked~label.sk-toggleable__label-arrow:before {\n",
       "  content: \"▾\";\n",
       "}\n",
       "\n",
       "/* Pipeline/ColumnTransformer-specific style */\n",
       "\n",
       "#sk-container-id-3 div.sk-label input.sk-toggleable__control:checked~label.sk-toggleable__label {\n",
       "  color: var(--sklearn-color-text);\n",
       "  background-color: var(--sklearn-color-unfitted-level-2);\n",
       "}\n",
       "\n",
       "#sk-container-id-3 div.sk-label.fitted input.sk-toggleable__control:checked~label.sk-toggleable__label {\n",
       "  background-color: var(--sklearn-color-fitted-level-2);\n",
       "}\n",
       "\n",
       "/* Estimator-specific style */\n",
       "\n",
       "/* Colorize estimator box */\n",
       "#sk-container-id-3 div.sk-estimator input.sk-toggleable__control:checked~label.sk-toggleable__label {\n",
       "  /* unfitted */\n",
       "  background-color: var(--sklearn-color-unfitted-level-2);\n",
       "}\n",
       "\n",
       "#sk-container-id-3 div.sk-estimator.fitted input.sk-toggleable__control:checked~label.sk-toggleable__label {\n",
       "  /* fitted */\n",
       "  background-color: var(--sklearn-color-fitted-level-2);\n",
       "}\n",
       "\n",
       "#sk-container-id-3 div.sk-label label.sk-toggleable__label,\n",
       "#sk-container-id-3 div.sk-label label {\n",
       "  /* The background is the default theme color */\n",
       "  color: var(--sklearn-color-text-on-default-background);\n",
       "}\n",
       "\n",
       "/* On hover, darken the color of the background */\n",
       "#sk-container-id-3 div.sk-label:hover label.sk-toggleable__label {\n",
       "  color: var(--sklearn-color-text);\n",
       "  background-color: var(--sklearn-color-unfitted-level-2);\n",
       "}\n",
       "\n",
       "/* Label box, darken color on hover, fitted */\n",
       "#sk-container-id-3 div.sk-label.fitted:hover label.sk-toggleable__label.fitted {\n",
       "  color: var(--sklearn-color-text);\n",
       "  background-color: var(--sklearn-color-fitted-level-2);\n",
       "}\n",
       "\n",
       "/* Estimator label */\n",
       "\n",
       "#sk-container-id-3 div.sk-label label {\n",
       "  font-family: monospace;\n",
       "  font-weight: bold;\n",
       "  display: inline-block;\n",
       "  line-height: 1.2em;\n",
       "}\n",
       "\n",
       "#sk-container-id-3 div.sk-label-container {\n",
       "  text-align: center;\n",
       "}\n",
       "\n",
       "/* Estimator-specific */\n",
       "#sk-container-id-3 div.sk-estimator {\n",
       "  font-family: monospace;\n",
       "  border: 1px dotted var(--sklearn-color-border-box);\n",
       "  border-radius: 0.25em;\n",
       "  box-sizing: border-box;\n",
       "  margin-bottom: 0.5em;\n",
       "  /* unfitted */\n",
       "  background-color: var(--sklearn-color-unfitted-level-0);\n",
       "}\n",
       "\n",
       "#sk-container-id-3 div.sk-estimator.fitted {\n",
       "  /* fitted */\n",
       "  background-color: var(--sklearn-color-fitted-level-0);\n",
       "}\n",
       "\n",
       "/* on hover */\n",
       "#sk-container-id-3 div.sk-estimator:hover {\n",
       "  /* unfitted */\n",
       "  background-color: var(--sklearn-color-unfitted-level-2);\n",
       "}\n",
       "\n",
       "#sk-container-id-3 div.sk-estimator.fitted:hover {\n",
       "  /* fitted */\n",
       "  background-color: var(--sklearn-color-fitted-level-2);\n",
       "}\n",
       "\n",
       "/* Specification for estimator info (e.g. \"i\" and \"?\") */\n",
       "\n",
       "/* Common style for \"i\" and \"?\" */\n",
       "\n",
       ".sk-estimator-doc-link,\n",
       "a:link.sk-estimator-doc-link,\n",
       "a:visited.sk-estimator-doc-link {\n",
       "  float: right;\n",
       "  font-size: smaller;\n",
       "  line-height: 1em;\n",
       "  font-family: monospace;\n",
       "  background-color: var(--sklearn-color-background);\n",
       "  border-radius: 1em;\n",
       "  height: 1em;\n",
       "  width: 1em;\n",
       "  text-decoration: none !important;\n",
       "  margin-left: 1ex;\n",
       "  /* unfitted */\n",
       "  border: var(--sklearn-color-unfitted-level-1) 1pt solid;\n",
       "  color: var(--sklearn-color-unfitted-level-1);\n",
       "}\n",
       "\n",
       ".sk-estimator-doc-link.fitted,\n",
       "a:link.sk-estimator-doc-link.fitted,\n",
       "a:visited.sk-estimator-doc-link.fitted {\n",
       "  /* fitted */\n",
       "  border: var(--sklearn-color-fitted-level-1) 1pt solid;\n",
       "  color: var(--sklearn-color-fitted-level-1);\n",
       "}\n",
       "\n",
       "/* On hover */\n",
       "div.sk-estimator:hover .sk-estimator-doc-link:hover,\n",
       ".sk-estimator-doc-link:hover,\n",
       "div.sk-label-container:hover .sk-estimator-doc-link:hover,\n",
       ".sk-estimator-doc-link:hover {\n",
       "  /* unfitted */\n",
       "  background-color: var(--sklearn-color-unfitted-level-3);\n",
       "  color: var(--sklearn-color-background);\n",
       "  text-decoration: none;\n",
       "}\n",
       "\n",
       "div.sk-estimator.fitted:hover .sk-estimator-doc-link.fitted:hover,\n",
       ".sk-estimator-doc-link.fitted:hover,\n",
       "div.sk-label-container:hover .sk-estimator-doc-link.fitted:hover,\n",
       ".sk-estimator-doc-link.fitted:hover {\n",
       "  /* fitted */\n",
       "  background-color: var(--sklearn-color-fitted-level-3);\n",
       "  color: var(--sklearn-color-background);\n",
       "  text-decoration: none;\n",
       "}\n",
       "\n",
       "/* Span, style for the box shown on hovering the info icon */\n",
       ".sk-estimator-doc-link span {\n",
       "  display: none;\n",
       "  z-index: 9999;\n",
       "  position: relative;\n",
       "  font-weight: normal;\n",
       "  right: .2ex;\n",
       "  padding: .5ex;\n",
       "  margin: .5ex;\n",
       "  width: min-content;\n",
       "  min-width: 20ex;\n",
       "  max-width: 50ex;\n",
       "  color: var(--sklearn-color-text);\n",
       "  box-shadow: 2pt 2pt 4pt #999;\n",
       "  /* unfitted */\n",
       "  background: var(--sklearn-color-unfitted-level-0);\n",
       "  border: .5pt solid var(--sklearn-color-unfitted-level-3);\n",
       "}\n",
       "\n",
       ".sk-estimator-doc-link.fitted span {\n",
       "  /* fitted */\n",
       "  background: var(--sklearn-color-fitted-level-0);\n",
       "  border: var(--sklearn-color-fitted-level-3);\n",
       "}\n",
       "\n",
       ".sk-estimator-doc-link:hover span {\n",
       "  display: block;\n",
       "}\n",
       "\n",
       "/* \"?\"-specific style due to the `<a>` HTML tag */\n",
       "\n",
       "#sk-container-id-3 a.estimator_doc_link {\n",
       "  float: right;\n",
       "  font-size: 1rem;\n",
       "  line-height: 1em;\n",
       "  font-family: monospace;\n",
       "  background-color: var(--sklearn-color-background);\n",
       "  border-radius: 1rem;\n",
       "  height: 1rem;\n",
       "  width: 1rem;\n",
       "  text-decoration: none;\n",
       "  /* unfitted */\n",
       "  color: var(--sklearn-color-unfitted-level-1);\n",
       "  border: var(--sklearn-color-unfitted-level-1) 1pt solid;\n",
       "}\n",
       "\n",
       "#sk-container-id-3 a.estimator_doc_link.fitted {\n",
       "  /* fitted */\n",
       "  border: var(--sklearn-color-fitted-level-1) 1pt solid;\n",
       "  color: var(--sklearn-color-fitted-level-1);\n",
       "}\n",
       "\n",
       "/* On hover */\n",
       "#sk-container-id-3 a.estimator_doc_link:hover {\n",
       "  /* unfitted */\n",
       "  background-color: var(--sklearn-color-unfitted-level-3);\n",
       "  color: var(--sklearn-color-background);\n",
       "  text-decoration: none;\n",
       "}\n",
       "\n",
       "#sk-container-id-3 a.estimator_doc_link.fitted:hover {\n",
       "  /* fitted */\n",
       "  background-color: var(--sklearn-color-fitted-level-3);\n",
       "}\n",
       "</style><div id=\"sk-container-id-3\" class=\"sk-top-container\"><div class=\"sk-text-repr-fallback\"><pre>LinearRegression()</pre><b>In a Jupyter environment, please rerun this cell to show the HTML representation or trust the notebook. <br />On GitHub, the HTML representation is unable to render, please try loading this page with nbviewer.org.</b></div><div class=\"sk-container\" hidden><div class=\"sk-item\"><div class=\"sk-estimator fitted sk-toggleable\"><input class=\"sk-toggleable__control sk-hidden--visually\" id=\"sk-estimator-id-3\" type=\"checkbox\" checked><label for=\"sk-estimator-id-3\" class=\"sk-toggleable__label fitted sk-toggleable__label-arrow fitted\">&nbsp;&nbsp;LinearRegression<a class=\"sk-estimator-doc-link fitted\" rel=\"noreferrer\" target=\"_blank\" href=\"https://scikit-learn.org/1.4/modules/generated/sklearn.linear_model.LinearRegression.html\">?<span>Documentation for LinearRegression</span></a><span class=\"sk-estimator-doc-link fitted\">i<span>Fitted</span></span></label><div class=\"sk-toggleable__content fitted\"><pre>LinearRegression()</pre></div> </div></div></div></div>"
      ]
     },
     "execution_count": 66,
     "metadata": {},
     "output_type": "execute_result"
    }
   ],
   "execution_count": 66
  },
  {
   "cell_type": "markdown",
   "source": [
    "####  2. Calculate the RMSE of the model on the training data"
   ],
   "metadata": {
    "collapsed": false
   }
  },
  {
   "cell_type": "code",
   "source": [
    "# to calculate root mean squared error, we need to get predictions\n",
    "y_predictions = lr.predict(X_train)\n",
    "root_mean_squared_error(y_train, y_predictions)"
   ],
   "metadata": {
    "collapsed": false,
    "ExecuteTime": {
     "end_time": "2024-05-16T16:05:09.240427Z",
     "start_time": "2024-05-16T16:05:09.191863Z"
    }
   },
   "outputs": [
    {
     "data": {
      "text/plain": [
       "7.649261934850555"
      ]
     },
     "execution_count": 67,
     "metadata": {},
     "output_type": "execute_result"
    }
   ],
   "execution_count": 67
  },
  {
   "cell_type": "markdown",
   "source": [
    "### Q6. Evaluating the model\n",
    "\n",
    "Now let's apply this model to the validation dataset (February 2023).\n",
    "\n",
    "What's the RMSE on validation?\n",
    "\n",
    "* 3.81\n",
    "* 7.81\n",
    "* 11.81\n",
    "* 16.81"
   ],
   "metadata": {
    "collapsed": false
   }
  },
  {
   "cell_type": "code",
   "source": [
    "# This is NYC Dataset of February. We will use it for validation\n",
    "nyc_df_val = pd.read_parquet('../data/yellow_tripdata_2023-02.parquet')"
   ],
   "metadata": {
    "collapsed": false,
    "ExecuteTime": {
     "end_time": "2024-05-16T16:08:14.274192Z",
     "start_time": "2024-05-16T16:08:13.189056Z"
    }
   },
   "outputs": [],
   "execution_count": 68
  },
  {
   "cell_type": "code",
   "source": [
    "print(\"Number of columns are: \", nyc_df_val.shape[1])"
   ],
   "metadata": {
    "collapsed": false,
    "ExecuteTime": {
     "end_time": "2024-05-16T16:08:20.585432Z",
     "start_time": "2024-05-16T16:08:20.581153Z"
    }
   },
   "outputs": [
    {
     "name": "stdout",
     "output_type": "stream",
     "text": [
      "Number of columns are:  19\n"
     ]
    }
   ],
   "execution_count": 69
  },
  {
   "cell_type": "code",
   "source": [
    "# Let's check info\n",
    "nyc_df_val.info()"
   ],
   "metadata": {
    "collapsed": false,
    "ExecuteTime": {
     "end_time": "2024-05-16T16:09:02.883786Z",
     "start_time": "2024-05-16T16:09:02.868735Z"
    }
   },
   "outputs": [
    {
     "name": "stdout",
     "output_type": "stream",
     "text": [
      "<class 'pandas.core.frame.DataFrame'>\n",
      "RangeIndex: 2913955 entries, 0 to 2913954\n",
      "Data columns (total 19 columns):\n",
      " #   Column                 Dtype         \n",
      "---  ------                 -----         \n",
      " 0   VendorID               int32         \n",
      " 1   tpep_pickup_datetime   datetime64[us]\n",
      " 2   tpep_dropoff_datetime  datetime64[us]\n",
      " 3   passenger_count        float64       \n",
      " 4   trip_distance          float64       \n",
      " 5   RatecodeID             float64       \n",
      " 6   store_and_fwd_flag     object        \n",
      " 7   PULocationID           int32         \n",
      " 8   DOLocationID           int32         \n",
      " 9   payment_type           int64         \n",
      " 10  fare_amount            float64       \n",
      " 11  extra                  float64       \n",
      " 12  mta_tax                float64       \n",
      " 13  tip_amount             float64       \n",
      " 14  tolls_amount           float64       \n",
      " 15  improvement_surcharge  float64       \n",
      " 16  total_amount           float64       \n",
      " 17  congestion_surcharge   float64       \n",
      " 18  Airport_fee            float64       \n",
      "dtypes: datetime64[us](2), float64(12), int32(3), int64(1), object(1)\n",
      "memory usage: 389.1+ MB\n"
     ]
    }
   ],
   "execution_count": 70
  },
  {
   "cell_type": "code",
   "source": [
    "# choose the same arrange of data as train dataset\n",
    "nyc_df_val[\"duration\"] = nyc_df_val.tpep_dropoff_datetime - nyc_df_val.tpep_pickup_datetime\n",
    "# we need to convert the duration into minutes by dividing total seconds of the duration by 60\n",
    "nyc_df_val.duration = nyc_df_val.duration.apply(lambda td: td.total_seconds() / 60)\n",
    "# we will filter the data between 1 and 60 minutes like we did for the train dataset.\n",
    "nyc_dataframe_val = nyc_df_val[(nyc_df_val.duration >= 1) & (nyc_df_val.duration <= 60)]"
   ],
   "metadata": {
    "collapsed": false,
    "ExecuteTime": {
     "end_time": "2024-05-16T16:12:33.439006Z",
     "start_time": "2024-05-16T16:12:19.741584Z"
    }
   },
   "outputs": [],
   "execution_count": 71
  },
  {
   "cell_type": "code",
   "source": [
    "nyc_dataframe_val.head()"
   ],
   "metadata": {
    "collapsed": false,
    "ExecuteTime": {
     "end_time": "2024-05-16T16:13:30.231359Z",
     "start_time": "2024-05-16T16:13:30.209867Z"
    }
   },
   "outputs": [
    {
     "data": {
      "text/plain": [
       "   VendorID tpep_pickup_datetime tpep_dropoff_datetime  passenger_count  \\\n",
       "0         1  2023-02-01 00:32:53   2023-02-01 00:34:34              2.0   \n",
       "3         1  2023-02-01 00:29:33   2023-02-01 01:01:38              0.0   \n",
       "4         2  2023-02-01 00:12:28   2023-02-01 00:25:46              1.0   \n",
       "5         1  2023-02-01 00:52:40   2023-02-01 01:07:18              1.0   \n",
       "6         1  2023-02-01 00:12:39   2023-02-01 00:40:36              1.0   \n",
       "\n",
       "   trip_distance  RatecodeID store_and_fwd_flag  PULocationID  DOLocationID  \\\n",
       "0           0.30         1.0                  N           142           163   \n",
       "3          18.80         1.0                  N           132            26   \n",
       "4           3.22         1.0                  N           161           145   \n",
       "5           5.10         1.0                  N           148           236   \n",
       "6           8.90         1.0                  N           137           244   \n",
       "\n",
       "   payment_type  fare_amount  extra  mta_tax  tip_amount  tolls_amount  \\\n",
       "0             2          4.4   3.50      0.5        0.00           0.0   \n",
       "3             1         70.9   2.25      0.5        0.00           0.0   \n",
       "4             1         17.0   1.00      0.5        3.30           0.0   \n",
       "5             1         21.9   3.50      0.5        5.35           0.0   \n",
       "6             1         41.5   3.50      0.5        3.50           0.0   \n",
       "\n",
       "   improvement_surcharge  total_amount  congestion_surcharge  Airport_fee  \\\n",
       "0                    1.0          9.40                   2.5         0.00   \n",
       "3                    1.0         74.65                   0.0         1.25   \n",
       "4                    1.0         25.30                   2.5         0.00   \n",
       "5                    1.0         32.25                   2.5         0.00   \n",
       "6                    1.0         50.00                   2.5         0.00   \n",
       "\n",
       "    duration  \n",
       "0   1.683333  \n",
       "3  32.083333  \n",
       "4  13.300000  \n",
       "5  14.633333  \n",
       "6  27.950000  "
      ],
      "text/html": [
       "<div>\n",
       "<style scoped>\n",
       "    .dataframe tbody tr th:only-of-type {\n",
       "        vertical-align: middle;\n",
       "    }\n",
       "\n",
       "    .dataframe tbody tr th {\n",
       "        vertical-align: top;\n",
       "    }\n",
       "\n",
       "    .dataframe thead th {\n",
       "        text-align: right;\n",
       "    }\n",
       "</style>\n",
       "<table border=\"1\" class=\"dataframe\">\n",
       "  <thead>\n",
       "    <tr style=\"text-align: right;\">\n",
       "      <th></th>\n",
       "      <th>VendorID</th>\n",
       "      <th>tpep_pickup_datetime</th>\n",
       "      <th>tpep_dropoff_datetime</th>\n",
       "      <th>passenger_count</th>\n",
       "      <th>trip_distance</th>\n",
       "      <th>RatecodeID</th>\n",
       "      <th>store_and_fwd_flag</th>\n",
       "      <th>PULocationID</th>\n",
       "      <th>DOLocationID</th>\n",
       "      <th>payment_type</th>\n",
       "      <th>fare_amount</th>\n",
       "      <th>extra</th>\n",
       "      <th>mta_tax</th>\n",
       "      <th>tip_amount</th>\n",
       "      <th>tolls_amount</th>\n",
       "      <th>improvement_surcharge</th>\n",
       "      <th>total_amount</th>\n",
       "      <th>congestion_surcharge</th>\n",
       "      <th>Airport_fee</th>\n",
       "      <th>duration</th>\n",
       "    </tr>\n",
       "  </thead>\n",
       "  <tbody>\n",
       "    <tr>\n",
       "      <th>0</th>\n",
       "      <td>1</td>\n",
       "      <td>2023-02-01 00:32:53</td>\n",
       "      <td>2023-02-01 00:34:34</td>\n",
       "      <td>2.0</td>\n",
       "      <td>0.30</td>\n",
       "      <td>1.0</td>\n",
       "      <td>N</td>\n",
       "      <td>142</td>\n",
       "      <td>163</td>\n",
       "      <td>2</td>\n",
       "      <td>4.4</td>\n",
       "      <td>3.50</td>\n",
       "      <td>0.5</td>\n",
       "      <td>0.00</td>\n",
       "      <td>0.0</td>\n",
       "      <td>1.0</td>\n",
       "      <td>9.40</td>\n",
       "      <td>2.5</td>\n",
       "      <td>0.00</td>\n",
       "      <td>1.683333</td>\n",
       "    </tr>\n",
       "    <tr>\n",
       "      <th>3</th>\n",
       "      <td>1</td>\n",
       "      <td>2023-02-01 00:29:33</td>\n",
       "      <td>2023-02-01 01:01:38</td>\n",
       "      <td>0.0</td>\n",
       "      <td>18.80</td>\n",
       "      <td>1.0</td>\n",
       "      <td>N</td>\n",
       "      <td>132</td>\n",
       "      <td>26</td>\n",
       "      <td>1</td>\n",
       "      <td>70.9</td>\n",
       "      <td>2.25</td>\n",
       "      <td>0.5</td>\n",
       "      <td>0.00</td>\n",
       "      <td>0.0</td>\n",
       "      <td>1.0</td>\n",
       "      <td>74.65</td>\n",
       "      <td>0.0</td>\n",
       "      <td>1.25</td>\n",
       "      <td>32.083333</td>\n",
       "    </tr>\n",
       "    <tr>\n",
       "      <th>4</th>\n",
       "      <td>2</td>\n",
       "      <td>2023-02-01 00:12:28</td>\n",
       "      <td>2023-02-01 00:25:46</td>\n",
       "      <td>1.0</td>\n",
       "      <td>3.22</td>\n",
       "      <td>1.0</td>\n",
       "      <td>N</td>\n",
       "      <td>161</td>\n",
       "      <td>145</td>\n",
       "      <td>1</td>\n",
       "      <td>17.0</td>\n",
       "      <td>1.00</td>\n",
       "      <td>0.5</td>\n",
       "      <td>3.30</td>\n",
       "      <td>0.0</td>\n",
       "      <td>1.0</td>\n",
       "      <td>25.30</td>\n",
       "      <td>2.5</td>\n",
       "      <td>0.00</td>\n",
       "      <td>13.300000</td>\n",
       "    </tr>\n",
       "    <tr>\n",
       "      <th>5</th>\n",
       "      <td>1</td>\n",
       "      <td>2023-02-01 00:52:40</td>\n",
       "      <td>2023-02-01 01:07:18</td>\n",
       "      <td>1.0</td>\n",
       "      <td>5.10</td>\n",
       "      <td>1.0</td>\n",
       "      <td>N</td>\n",
       "      <td>148</td>\n",
       "      <td>236</td>\n",
       "      <td>1</td>\n",
       "      <td>21.9</td>\n",
       "      <td>3.50</td>\n",
       "      <td>0.5</td>\n",
       "      <td>5.35</td>\n",
       "      <td>0.0</td>\n",
       "      <td>1.0</td>\n",
       "      <td>32.25</td>\n",
       "      <td>2.5</td>\n",
       "      <td>0.00</td>\n",
       "      <td>14.633333</td>\n",
       "    </tr>\n",
       "    <tr>\n",
       "      <th>6</th>\n",
       "      <td>1</td>\n",
       "      <td>2023-02-01 00:12:39</td>\n",
       "      <td>2023-02-01 00:40:36</td>\n",
       "      <td>1.0</td>\n",
       "      <td>8.90</td>\n",
       "      <td>1.0</td>\n",
       "      <td>N</td>\n",
       "      <td>137</td>\n",
       "      <td>244</td>\n",
       "      <td>1</td>\n",
       "      <td>41.5</td>\n",
       "      <td>3.50</td>\n",
       "      <td>0.5</td>\n",
       "      <td>3.50</td>\n",
       "      <td>0.0</td>\n",
       "      <td>1.0</td>\n",
       "      <td>50.00</td>\n",
       "      <td>2.5</td>\n",
       "      <td>0.00</td>\n",
       "      <td>27.950000</td>\n",
       "    </tr>\n",
       "  </tbody>\n",
       "</table>\n",
       "</div>"
      ]
     },
     "execution_count": 72,
     "metadata": {},
     "output_type": "execute_result"
    }
   ],
   "execution_count": 72
  },
  {
   "cell_type": "code",
   "source": [
    "# Turn selected columns into a list of dictionaries\n",
    "# Create a copy of the validation DataFrame columns\n",
    "nyc_dataframe_val_copy = nyc_dataframe_val[categorical_columns].copy()\n",
    "\n",
    "# Perform the type casting on the copied columns\n",
    "nyc_dataframe_val_copy = nyc_dataframe_val_copy.astype(str)\n",
    "\n",
    "# Replace the original columns with the cast columns\n",
    "nyc_dataframe_val.loc[:, categorical_columns] = nyc_dataframe_val_copy\n",
    "# turn selected categorical columns into a list of dictionaries by using to_dict() method with orient='records' parameter.\n",
    "val_dicts = nyc_dataframe_val[categorical_columns].to_dict(orient='records')"
   ],
   "metadata": {
    "collapsed": false,
    "ExecuteTime": {
     "end_time": "2024-05-16T16:20:16.818321Z",
     "start_time": "2024-05-16T16:20:07.549773Z"
    }
   },
   "outputs": [],
   "execution_count": 77
  },
  {
   "cell_type": "code",
   "source": [
    "# This time we just do the transform without fitting to get X_val\n",
    "X_val = dv.transform(val_dicts)\n",
    "\n",
    "# select target values for validation\n",
    "y_val = nyc_dataframe_val['duration'].values"
   ],
   "metadata": {
    "collapsed": false,
    "ExecuteTime": {
     "end_time": "2024-05-16T16:20:41.800179Z",
     "start_time": "2024-05-16T16:20:36.134281Z"
    }
   },
   "outputs": [],
   "execution_count": 78
  },
  {
   "cell_type": "code",
   "source": [
    "# Let's make predictions\n",
    "y_val_predictions = lr.predict(X_val)"
   ],
   "metadata": {
    "collapsed": false,
    "ExecuteTime": {
     "end_time": "2024-05-16T16:20:45.092559Z",
     "start_time": "2024-05-16T16:20:45.052909Z"
    }
   },
   "outputs": [],
   "execution_count": 79
  },
  {
   "cell_type": "code",
   "source": [
    "# ...and lastly, we check the score\n",
    "root_mean_squared_error(y_val, y_val_predictions)"
   ],
   "metadata": {
    "collapsed": false,
    "ExecuteTime": {
     "end_time": "2024-05-16T16:20:57.660886Z",
     "start_time": "2024-05-16T16:20:57.621Z"
    }
   },
   "outputs": [
    {
     "data": {
      "text/plain": [
       "7.811817745843695"
      ]
     },
     "execution_count": 80,
     "metadata": {},
     "output_type": "execute_result"
    }
   ],
   "execution_count": 80
  },
  {
   "cell_type": "code",
   "execution_count": null,
   "outputs": [],
   "source": [],
   "metadata": {
    "collapsed": false
   }
  }
 ],
 "metadata": {
  "kernelspec": {
   "display_name": "Python 3",
   "language": "python",
   "name": "python3"
  },
  "language_info": {
   "codemirror_mode": {
    "name": "ipython",
    "version": 2
   },
   "file_extension": ".py",
   "mimetype": "text/x-python",
   "name": "python",
   "nbconvert_exporter": "python",
   "pygments_lexer": "ipython2",
   "version": "2.7.6"
  }
 },
 "nbformat": 4,
 "nbformat_minor": 0
}
