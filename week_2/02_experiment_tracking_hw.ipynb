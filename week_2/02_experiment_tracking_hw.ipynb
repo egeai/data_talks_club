{
 "cells": [
  {
   "cell_type": "markdown",
   "source": [
    "# Homework - Experiemt Tracking\n",
    "The goal of this homework is to get familiar with tools like MLflow for experiment tracking and model management.\n",
    "## Q1. Install the package\n",
    "What's the version that you have?\n",
    "mlflow, version 2.3.2"
   ],
   "metadata": {
    "collapsed": false
   }
  },
  {
   "cell_type": "markdown",
   "source": [
    "## Q2. Download and preprocess the data\n",
    "We'll use the Green Taxi Trip Records dataset to predict the amount of tips for each trip."
   ],
   "metadata": {
    "collapsed": false
   }
  },
  {
   "cell_type": "code",
   "execution_count": null,
   "outputs": [],
   "source": [],
   "metadata": {
    "collapsed": false
   }
  }
 ],
 "metadata": {
  "kernelspec": {
   "display_name": "Python 3",
   "language": "python",
   "name": "python3"
  },
  "language_info": {
   "codemirror_mode": {
    "name": "ipython",
    "version": 2
   },
   "file_extension": ".py",
   "mimetype": "text/x-python",
   "name": "python",
   "nbconvert_exporter": "python",
   "pygments_lexer": "ipython2",
   "version": "2.7.6"
  }
 },
 "nbformat": 4,
 "nbformat_minor": 0
}
