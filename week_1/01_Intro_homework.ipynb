{
 "cells": [
  {
   "cell_type": "markdown",
   "source": [
    "## Homework\n",
    "The goal of this homework is to train a simple model for predicting the duration of a ride - similar to what we did in this module."
   ],
   "metadata": {
    "collapsed": false
   }
  },
  {
   "cell_type": "markdown",
   "source": [
    "### Q1. Downloading the data\n",
    "[The data link address of NYC Dataset](https://www1.nyc.gov/site/tlc/about/tlc-trip-record-data.page)\n",
    "\n",
    "Read the data for January. How many columns are there?"
   ],
   "metadata": {
    "collapsed": false
   }
  },
  {
   "cell_type": "code",
   "execution_count": 44,
   "outputs": [],
   "source": [
    "import pandas as pd\n",
    "# This is January data of NYC Dataset\n",
    "nyc_dataframe = pd.read_parquet(\"../data/yellow_tripdata_2022-01.parquet\")"
   ],
   "metadata": {
    "collapsed": false,
    "ExecuteTime": {
     "end_time": "2023-05-19T07:07:47.755478Z",
     "start_time": "2023-05-19T07:07:46.988307Z"
    }
   }
  },
  {
   "cell_type": "code",
   "execution_count": 45,
   "outputs": [
    {
     "name": "stdout",
     "output_type": "stream",
     "text": [
      "Number of columns are:  19\n"
     ]
    }
   ],
   "source": [
    "print(\"Number of columns are: \", nyc_dataframe.shape[1])"
   ],
   "metadata": {
    "collapsed": false,
    "ExecuteTime": {
     "end_time": "2023-05-19T07:07:47.769412Z",
     "start_time": "2023-05-19T07:07:47.761102Z"
    }
   }
  },
  {
   "cell_type": "markdown",
   "source": [
    "### Q2. Computing duration\n",
    "Now let's compute the `duration` variable. It should contain the duration of a ride in minutes.\n",
    "What's the standard deviation of the trips duration in January?\n",
    "\n",
    "Let's first check the info of the dataframe to see the type of `tpep_dropoff_datetime` and `tpep_pickup_datetime` columns"
   ],
   "metadata": {
    "collapsed": false
   }
  },
  {
   "cell_type": "code",
   "execution_count": 54,
   "outputs": [
    {
     "name": "stdout",
     "output_type": "stream",
     "text": [
      "<class 'pandas.core.frame.DataFrame'>\n",
      "RangeIndex: 2463931 entries, 0 to 2463930\n",
      "Data columns (total 20 columns):\n",
      " #   Column                 Dtype         \n",
      "---  ------                 -----         \n",
      " 0   VendorID               int64         \n",
      " 1   tpep_pickup_datetime   datetime64[ns]\n",
      " 2   tpep_dropoff_datetime  datetime64[ns]\n",
      " 3   passenger_count        float64       \n",
      " 4   trip_distance          float64       \n",
      " 5   RatecodeID             float64       \n",
      " 6   store_and_fwd_flag     object        \n",
      " 7   PULocationID           int64         \n",
      " 8   DOLocationID           int64         \n",
      " 9   payment_type           int64         \n",
      " 10  fare_amount            float64       \n",
      " 11  extra                  float64       \n",
      " 12  mta_tax                float64       \n",
      " 13  tip_amount             float64       \n",
      " 14  tolls_amount           float64       \n",
      " 15  improvement_surcharge  float64       \n",
      " 16  total_amount           float64       \n",
      " 17  congestion_surcharge   float64       \n",
      " 18  airport_fee            float64       \n",
      " 19  duration               float64       \n",
      "dtypes: datetime64[ns](2), float64(13), int64(4), object(1)\n",
      "memory usage: 376.0+ MB\n"
     ]
    }
   ],
   "source": [
    "nyc_dataframe.info()"
   ],
   "metadata": {
    "collapsed": false,
    "ExecuteTime": {
     "end_time": "2023-05-19T07:20:04.201265Z",
     "start_time": "2023-05-19T07:20:04.195179Z"
    }
   }
  },
  {
   "cell_type": "markdown",
   "source": [
    "Since we will find the `duration` of the trips in minutes, the date time type is what we are looking for. We don't need to convert it to datetime type."
   ],
   "metadata": {
    "collapsed": false
   }
  },
  {
   "cell_type": "code",
   "execution_count": 55,
   "outputs": [],
   "source": [
    "nyc_dataframe[\"duration\"] = nyc_dataframe[\"tpep_dropoff_datetime\"]-nyc_dataframe[\"tpep_pickup_datetime\"]\n",
    "nyc_dataframe.duration = nyc_dataframe.duration.apply(lambda td: td.total_seconds()/60)"
   ],
   "metadata": {
    "collapsed": false,
    "ExecuteTime": {
     "end_time": "2023-05-19T07:30:04.322780Z",
     "start_time": "2023-05-19T07:29:56.201956Z"
    }
   }
  },
  {
   "cell_type": "code",
   "execution_count": 58,
   "outputs": [
    {
     "name": "stdout",
     "output_type": "stream",
     "text": [
      "46.445295712725304\n",
      "46.44530513776802\n"
     ]
    }
   ],
   "source": [
    "import math\n",
    "\"\"\"\n",
    "The calculation of standard deviation is described as;\n",
    "std = sqrt(mean(x)) ,\n",
    "where x = abs(a - a.mean())**2 . The average squared deviation is typically calculated as x.sum() / N , where N = len(x)\n",
    "\"\"\"\n",
    "\n",
    "# according to that calculation description we can define our solution like below\n",
    "x = abs(nyc_dataframe.duration-nyc_dataframe.duration.mean())**2\n",
    "print(math.sqrt(x.sum() / len(x)))\n",
    "\n",
    "# we can also choose the easy way and use built-in function\n",
    "print(nyc_dataframe.duration.std())\n",
    "\n",
    "# 46.45 is the rigth answer for this question"
   ],
   "metadata": {
    "collapsed": false,
    "ExecuteTime": {
     "end_time": "2023-05-19T07:31:32.077670Z",
     "start_time": "2023-05-19T07:31:32.014834Z"
    }
   }
  },
  {
   "cell_type": "markdown",
   "source": [
    "### Q3. Dropping outliers\n",
    "\n",
    "Next, we need to check the distribution of the `duration` variable. There are some outliers. Let's remove them and keep only the records where the duration was between 1 and 60 minutes (inclusive).\n",
    "\n",
    "What fraction of the records left after you dropped the outliers?"
   ],
   "metadata": {
    "collapsed": false
   }
  },
  {
   "cell_type": "code",
   "execution_count": null,
   "outputs": [],
   "source": [],
   "metadata": {
    "collapsed": false
   }
  }
 ],
 "metadata": {
  "kernelspec": {
   "display_name": "Python 3",
   "language": "python",
   "name": "python3"
  },
  "language_info": {
   "codemirror_mode": {
    "name": "ipython",
    "version": 2
   },
   "file_extension": ".py",
   "mimetype": "text/x-python",
   "name": "python",
   "nbconvert_exporter": "python",
   "pygments_lexer": "ipython2",
   "version": "2.7.6"
  }
 },
 "nbformat": 4,
 "nbformat_minor": 0
}
