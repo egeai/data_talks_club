{
 "cells": [
  {
   "cell_type": "markdown",
   "source": [
    "## Homework\n",
    "The goal of this homework is to train a simple model for predicting the duration of a ride - similar to what we did in this module."
   ],
   "metadata": {
    "collapsed": false
   }
  },
  {
   "cell_type": "markdown",
   "source": [
    "### Q1. Downloading the data\n",
    "[The data link address of NYC Dataset](https://www1.nyc.gov/site/tlc/about/tlc-trip-record-data.page)\n",
    "\n",
    "Read the data for January. How many columns are there?"
   ],
   "metadata": {
    "collapsed": false
   }
  },
  {
   "cell_type": "code",
   "execution_count": 249,
   "outputs": [],
   "source": [
    "import pandas as pd\n",
    "import numpy as np\n",
    "# import visualization library\n",
    "import seaborn as sns\n",
    "\n",
    "# This is January data of NYC Dataset\n",
    "nyc_dataframe = pd.read_parquet(\"../data/yellow_tripdata_2022-01.parquet\")"
   ],
   "metadata": {
    "collapsed": false,
    "ExecuteTime": {
     "end_time": "2023-05-19T12:11:52.412732Z",
     "start_time": "2023-05-19T12:11:51.500335Z"
    }
   }
  },
  {
   "cell_type": "code",
   "execution_count": 250,
   "outputs": [
    {
     "name": "stdout",
     "output_type": "stream",
     "text": [
      "Number of columns are:  19\n"
     ]
    }
   ],
   "source": [
    "print(\"Number of columns are: \", nyc_dataframe.shape[1])"
   ],
   "metadata": {
    "collapsed": false,
    "ExecuteTime": {
     "end_time": "2023-05-19T12:11:53.291027Z",
     "start_time": "2023-05-19T12:11:53.203470Z"
    }
   }
  },
  {
   "cell_type": "markdown",
   "source": [
    "### Q2. Computing duration\n",
    "Now let's compute the `duration` variable. It should contain the duration of a ride in minutes.\n",
    "What's the standard deviation of the trips duration in January?\n",
    "\n",
    "Let's first check the info of the dataframe to see the type of `tpep_dropoff_datetime` and `tpep_pickup_datetime` columns"
   ],
   "metadata": {
    "collapsed": false
   }
  },
  {
   "cell_type": "code",
   "execution_count": 251,
   "outputs": [
    {
     "name": "stdout",
     "output_type": "stream",
     "text": [
      "<class 'pandas.core.frame.DataFrame'>\n",
      "RangeIndex: 2463931 entries, 0 to 2463930\n",
      "Data columns (total 19 columns):\n",
      " #   Column                 Dtype         \n",
      "---  ------                 -----         \n",
      " 0   VendorID               int64         \n",
      " 1   tpep_pickup_datetime   datetime64[ns]\n",
      " 2   tpep_dropoff_datetime  datetime64[ns]\n",
      " 3   passenger_count        float64       \n",
      " 4   trip_distance          float64       \n",
      " 5   RatecodeID             float64       \n",
      " 6   store_and_fwd_flag     object        \n",
      " 7   PULocationID           int64         \n",
      " 8   DOLocationID           int64         \n",
      " 9   payment_type           int64         \n",
      " 10  fare_amount            float64       \n",
      " 11  extra                  float64       \n",
      " 12  mta_tax                float64       \n",
      " 13  tip_amount             float64       \n",
      " 14  tolls_amount           float64       \n",
      " 15  improvement_surcharge  float64       \n",
      " 16  total_amount           float64       \n",
      " 17  congestion_surcharge   float64       \n",
      " 18  airport_fee            float64       \n",
      "dtypes: datetime64[ns](2), float64(12), int64(4), object(1)\n",
      "memory usage: 357.2+ MB\n"
     ]
    }
   ],
   "source": [
    "nyc_dataframe.info()"
   ],
   "metadata": {
    "collapsed": false,
    "ExecuteTime": {
     "end_time": "2023-05-19T12:11:53.932562Z",
     "start_time": "2023-05-19T12:11:53.908581Z"
    }
   }
  },
  {
   "cell_type": "markdown",
   "source": [
    "Since we will find the `duration` of the trips in minutes, the date time type is what we are looking for. We don't need to convert it to datetime type."
   ],
   "metadata": {
    "collapsed": false
   }
  },
  {
   "cell_type": "code",
   "execution_count": 252,
   "outputs": [
    {
     "data": {
      "text/plain": "   VendorID tpep_pickup_datetime tpep_dropoff_datetime  passenger_count  \\\n0         1  2022-01-01 00:35:40   2022-01-01 00:53:29              2.0   \n1         1  2022-01-01 00:33:43   2022-01-01 00:42:07              1.0   \n2         2  2022-01-01 00:53:21   2022-01-01 01:02:19              1.0   \n3         2  2022-01-01 00:25:21   2022-01-01 00:35:23              1.0   \n4         2  2022-01-01 00:36:48   2022-01-01 01:14:20              1.0   \n\n   trip_distance  RatecodeID store_and_fwd_flag  PULocationID  DOLocationID  \\\n0           3.80         1.0                  N           142           236   \n1           2.10         1.0                  N           236            42   \n2           0.97         1.0                  N           166           166   \n3           1.09         1.0                  N           114            68   \n4           4.30         1.0                  N            68           163   \n\n   payment_type  fare_amount  extra  mta_tax  tip_amount  tolls_amount  \\\n0             1         14.5    3.0      0.5        3.65           0.0   \n1             1          8.0    0.5      0.5        4.00           0.0   \n2             1          7.5    0.5      0.5        1.76           0.0   \n3             2          8.0    0.5      0.5        0.00           0.0   \n4             1         23.5    0.5      0.5        3.00           0.0   \n\n   improvement_surcharge  total_amount  congestion_surcharge  airport_fee  \\\n0                    0.3         21.95                   2.5          0.0   \n1                    0.3         13.30                   0.0          0.0   \n2                    0.3         10.56                   0.0          0.0   \n3                    0.3         11.80                   2.5          0.0   \n4                    0.3         30.30                   2.5          0.0   \n\n    duration  \n0  17.816667  \n1   8.400000  \n2   8.966667  \n3  10.033333  \n4  37.533333  ",
      "text/html": "<div>\n<style scoped>\n    .dataframe tbody tr th:only-of-type {\n        vertical-align: middle;\n    }\n\n    .dataframe tbody tr th {\n        vertical-align: top;\n    }\n\n    .dataframe thead th {\n        text-align: right;\n    }\n</style>\n<table border=\"1\" class=\"dataframe\">\n  <thead>\n    <tr style=\"text-align: right;\">\n      <th></th>\n      <th>VendorID</th>\n      <th>tpep_pickup_datetime</th>\n      <th>tpep_dropoff_datetime</th>\n      <th>passenger_count</th>\n      <th>trip_distance</th>\n      <th>RatecodeID</th>\n      <th>store_and_fwd_flag</th>\n      <th>PULocationID</th>\n      <th>DOLocationID</th>\n      <th>payment_type</th>\n      <th>fare_amount</th>\n      <th>extra</th>\n      <th>mta_tax</th>\n      <th>tip_amount</th>\n      <th>tolls_amount</th>\n      <th>improvement_surcharge</th>\n      <th>total_amount</th>\n      <th>congestion_surcharge</th>\n      <th>airport_fee</th>\n      <th>duration</th>\n    </tr>\n  </thead>\n  <tbody>\n    <tr>\n      <th>0</th>\n      <td>1</td>\n      <td>2022-01-01 00:35:40</td>\n      <td>2022-01-01 00:53:29</td>\n      <td>2.0</td>\n      <td>3.80</td>\n      <td>1.0</td>\n      <td>N</td>\n      <td>142</td>\n      <td>236</td>\n      <td>1</td>\n      <td>14.5</td>\n      <td>3.0</td>\n      <td>0.5</td>\n      <td>3.65</td>\n      <td>0.0</td>\n      <td>0.3</td>\n      <td>21.95</td>\n      <td>2.5</td>\n      <td>0.0</td>\n      <td>17.816667</td>\n    </tr>\n    <tr>\n      <th>1</th>\n      <td>1</td>\n      <td>2022-01-01 00:33:43</td>\n      <td>2022-01-01 00:42:07</td>\n      <td>1.0</td>\n      <td>2.10</td>\n      <td>1.0</td>\n      <td>N</td>\n      <td>236</td>\n      <td>42</td>\n      <td>1</td>\n      <td>8.0</td>\n      <td>0.5</td>\n      <td>0.5</td>\n      <td>4.00</td>\n      <td>0.0</td>\n      <td>0.3</td>\n      <td>13.30</td>\n      <td>0.0</td>\n      <td>0.0</td>\n      <td>8.400000</td>\n    </tr>\n    <tr>\n      <th>2</th>\n      <td>2</td>\n      <td>2022-01-01 00:53:21</td>\n      <td>2022-01-01 01:02:19</td>\n      <td>1.0</td>\n      <td>0.97</td>\n      <td>1.0</td>\n      <td>N</td>\n      <td>166</td>\n      <td>166</td>\n      <td>1</td>\n      <td>7.5</td>\n      <td>0.5</td>\n      <td>0.5</td>\n      <td>1.76</td>\n      <td>0.0</td>\n      <td>0.3</td>\n      <td>10.56</td>\n      <td>0.0</td>\n      <td>0.0</td>\n      <td>8.966667</td>\n    </tr>\n    <tr>\n      <th>3</th>\n      <td>2</td>\n      <td>2022-01-01 00:25:21</td>\n      <td>2022-01-01 00:35:23</td>\n      <td>1.0</td>\n      <td>1.09</td>\n      <td>1.0</td>\n      <td>N</td>\n      <td>114</td>\n      <td>68</td>\n      <td>2</td>\n      <td>8.0</td>\n      <td>0.5</td>\n      <td>0.5</td>\n      <td>0.00</td>\n      <td>0.0</td>\n      <td>0.3</td>\n      <td>11.80</td>\n      <td>2.5</td>\n      <td>0.0</td>\n      <td>10.033333</td>\n    </tr>\n    <tr>\n      <th>4</th>\n      <td>2</td>\n      <td>2022-01-01 00:36:48</td>\n      <td>2022-01-01 01:14:20</td>\n      <td>1.0</td>\n      <td>4.30</td>\n      <td>1.0</td>\n      <td>N</td>\n      <td>68</td>\n      <td>163</td>\n      <td>1</td>\n      <td>23.5</td>\n      <td>0.5</td>\n      <td>0.5</td>\n      <td>3.00</td>\n      <td>0.0</td>\n      <td>0.3</td>\n      <td>30.30</td>\n      <td>2.5</td>\n      <td>0.0</td>\n      <td>37.533333</td>\n    </tr>\n  </tbody>\n</table>\n</div>"
     },
     "execution_count": 252,
     "metadata": {},
     "output_type": "execute_result"
    }
   ],
   "source": [
    "nyc_dataframe[\"duration\"] = nyc_dataframe[\"tpep_dropoff_datetime\"]-nyc_dataframe[\"tpep_pickup_datetime\"]\n",
    "nyc_dataframe.duration = nyc_dataframe.duration.apply(lambda td: td.total_seconds()/60)\n",
    "nyc_dataframe.head()"
   ],
   "metadata": {
    "collapsed": false,
    "ExecuteTime": {
     "end_time": "2023-05-19T12:12:14.658916Z",
     "start_time": "2023-05-19T12:11:57.045508Z"
    }
   }
  },
  {
   "cell_type": "code",
   "execution_count": 253,
   "outputs": [
    {
     "name": "stdout",
     "output_type": "stream",
     "text": [
      "46.445295712725304\n",
      "46.44530513776802\n"
     ]
    }
   ],
   "source": [
    "import math\n",
    "\"\"\"\n",
    "The calculation of standard deviation is described as;\n",
    "std = sqrt(mean(x)) ,\n",
    "where x = abs(a - a.mean())**2 . The average squared deviation is typically calculated as x.sum() / N , where N = len(x)\n",
    "\"\"\"\n",
    "\n",
    "# according to that calculation description we can define our solution like below\n",
    "x = abs(nyc_dataframe.duration-nyc_dataframe.duration.mean())**2\n",
    "print(math.sqrt(x.sum() / len(x)))\n",
    "\n",
    "# we can also choose the easy way and use built-in function\n",
    "print(nyc_dataframe.duration.std())\n",
    "\n",
    "# 46.45 is the right answer for this question"
   ],
   "metadata": {
    "collapsed": false,
    "ExecuteTime": {
     "end_time": "2023-05-19T12:12:14.948287Z",
     "start_time": "2023-05-19T12:12:14.662785Z"
    }
   }
  },
  {
   "cell_type": "markdown",
   "source": [
    "### Q3. Dropping outliers\n",
    "\n",
    "Next, we need to check the distribution of the `duration` variable. There are some outliers. Let's remove them and keep only the records where the duration was between 1 and 60 minutes (inclusive).\n",
    "\n",
    "What fraction of the records left after you dropped the outliers?"
   ],
   "metadata": {
    "collapsed": false
   }
  },
  {
   "cell_type": "code",
   "execution_count": 254,
   "outputs": [
    {
     "data": {
      "text/plain": "count    2.463931e+06\nmean     1.421220e+01\nstd      4.644531e+01\nmin     -3.442400e+03\n25%      6.316667e+00\n50%      1.018333e+01\n75%      1.616667e+01\nmax      8.513183e+03\nName: duration, dtype: float64"
     },
     "execution_count": 254,
     "metadata": {},
     "output_type": "execute_result"
    }
   ],
   "source": [
    "# The statistics of the duration column is:\n",
    "nyc_dataframe.duration.describe()"
   ],
   "metadata": {
    "collapsed": false,
    "ExecuteTime": {
     "end_time": "2023-05-19T12:12:18.607233Z",
     "start_time": "2023-05-19T12:12:18.463656Z"
    }
   }
  },
  {
   "cell_type": "code",
   "execution_count": 255,
   "outputs": [
    {
     "data": {
      "text/plain": "VendorID                     0\ntpep_pickup_datetime         0\ntpep_dropoff_datetime        0\npassenger_count          71503\ntrip_distance                0\nRatecodeID               71503\nstore_and_fwd_flag       71503\nPULocationID                 0\nDOLocationID                 0\npayment_type                 0\nfare_amount                  0\nextra                        0\nmta_tax                      0\ntip_amount                   0\ntolls_amount                 0\nimprovement_surcharge        0\ntotal_amount                 0\ncongestion_surcharge     71503\nairport_fee              71503\nduration                     0\ndtype: int64"
     },
     "execution_count": 255,
     "metadata": {},
     "output_type": "execute_result"
    }
   ],
   "source": [
    "# Do we have null values in duration records? No\n",
    "nyc_dataframe.isnull().sum()"
   ],
   "metadata": {
    "collapsed": false,
    "ExecuteTime": {
     "end_time": "2023-05-19T12:12:20.424268Z",
     "start_time": "2023-05-19T12:12:19.212200Z"
    }
   }
  },
  {
   "cell_type": "code",
   "execution_count": 256,
   "outputs": [
    {
     "data": {
      "text/plain": "<AxesSubplot: xlabel='duration', ylabel='Count'>"
     },
     "execution_count": 256,
     "metadata": {},
     "output_type": "execute_result"
    },
    {
     "data": {
      "text/plain": "<Figure size 640x480 with 1 Axes>",
      "image/png": "[encoded data removed]"
     },
     "metadata": {},
     "output_type": "display_data"
    }
   ],
   "source": [
    "# One of the best ways to describe a variable is to report the values that appear in the dataset and how many times each value appears. This is called distribution of the variable.\n",
    "sns.histplot(nyc_dataframe.duration)"
   ],
   "metadata": {
    "collapsed": false,
    "ExecuteTime": {
     "end_time": "2023-05-19T12:15:01.485932Z",
     "start_time": "2023-05-19T12:12:20.626364Z"
    }
   }
  },
  {
   "cell_type": "code",
   "execution_count": 257,
   "outputs": [
    {
     "name": "stdout",
     "output_type": "stream",
     "text": [
      "AxesSubplot(0.125,0.11;0.775x0.77)\n",
      "98.27547930522405 of the records left, after dropping outliers 98.27547930522405\n"
     ]
    },
    {
     "data": {
      "text/plain": "<Figure size 640x480 with 1 Axes>",
      "image/png": "[encoded data removed]"
     },
     "metadata": {},
     "output_type": "display_data"
    }
   ],
   "source": [
    "# nyc_dataframe.duration = nyc_dataframe.duration[(nyc_dataframe.duration >= 1) & (nyc_dataframe.duration <= 60)]\n",
    "\n",
    "before_dropping_outliers = nyc_dataframe.shape[0]\n",
    "nyc_dataframe = nyc_dataframe[(nyc_dataframe.duration >= 1) & (nyc_dataframe.duration <= 60)]\n",
    "after_dropping_outliers = nyc_dataframe.shape[0]\n",
    "\n",
    "fraction_left = (after_dropping_outliers / before_dropping_outliers)*100\n",
    "\n",
    "# Let's look at the duration's histplot, after dropping outliers\n",
    "print(sns.histplot(nyc_dataframe.duration))\n",
    "\n",
    "print(f\"{fraction_left} of the records left, after dropping outliers\", fraction_left)\n"
   ],
   "metadata": {
    "collapsed": false,
    "ExecuteTime": {
     "end_time": "2023-05-19T12:15:06.125125Z",
     "start_time": "2023-05-19T12:15:01.500425Z"
    }
   }
  }
 ],
 "metadata": {
  "kernelspec": {
   "display_name": "Python 3",
   "language": "python",
   "name": "python3"
  },
  "language_info": {
   "codemirror_mode": {
    "name": "ipython",
    "version": 2
   },
   "file_extension": ".py",
   "mimetype": "text/x-python",
   "name": "python",
   "nbconvert_exporter": "python",
   "pygments_lexer": "ipython2",
   "version": "2.7.6"
  }
 },
 "nbformat": 4,
 "nbformat_minor": 0
}
