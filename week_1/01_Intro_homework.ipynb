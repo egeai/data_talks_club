{
 "cells": [
  {
   "cell_type": "markdown",
   "source": [
    "## Homework\n",
    "The goal of this homework is to train a simple model for predicting the duration of a ride - similar to what we did in this module."
   ],
   "metadata": {
    "collapsed": false
   }
  },
  {
   "cell_type": "markdown",
   "source": [
    "### Q1. Downloading the data\n",
    "[The data link address of NYC Dataset](https://www1.nyc.gov/site/tlc/about/tlc-trip-record-data.page)\n",
    "\n",
    "Read the data for January. How many columns are there?"
   ],
   "metadata": {
    "collapsed": false
   }
  },
  {
   "cell_type": "code",
   "execution_count": 1,
   "outputs": [],
   "source": [
    "# import libraries\n",
    "import pandas as pd\n",
    "import numpy as np\n",
    "# import visualization library\n",
    "import matplotlib.pyplot as plt\n",
    "import seaborn as sns"
   ],
   "metadata": {
    "collapsed": false,
    "ExecuteTime": {
     "end_time": "2023-05-20T05:27:09.433320Z",
     "start_time": "2023-05-20T05:27:09.413978Z"
    }
   }
  },
  {
   "cell_type": "code",
   "execution_count": 40,
   "outputs": [],
   "source": [
    "# This is January data of NYC Dataset\n",
    "nyc_df_train = pd.read_parquet(\"../data/yellow_tripdata_2022-01.parquet\")"
   ],
   "metadata": {
    "collapsed": false,
    "ExecuteTime": {
     "end_time": "2023-05-20T09:33:23.189104Z",
     "start_time": "2023-05-20T09:33:22.154190Z"
    }
   }
  },
  {
   "cell_type": "code",
   "execution_count": 41,
   "outputs": [
    {
     "name": "stdout",
     "output_type": "stream",
     "text": [
      "Number of columns are:  19\n"
     ]
    }
   ],
   "source": [
    "print(\"Number of columns are: \", nyc_df_train.shape[1])"
   ],
   "metadata": {
    "collapsed": false,
    "ExecuteTime": {
     "end_time": "2023-05-20T09:33:24.665510Z",
     "start_time": "2023-05-20T09:33:24.654282Z"
    }
   }
  },
  {
   "cell_type": "markdown",
   "source": [
    "### Q2. Computing duration\n",
    "Now let's compute the `duration` variable. It should contain the duration of a ride in minutes.\n",
    "What's the standard deviation of the trips duration in January?\n",
    "\n",
    "Let's first check the info of the dataframe to see the type of `tpep_dropoff_datetime` and `tpep_pickup_datetime` columns"
   ],
   "metadata": {
    "collapsed": false
   }
  },
  {
   "cell_type": "code",
   "execution_count": 42,
   "outputs": [
    {
     "name": "stdout",
     "output_type": "stream",
     "text": [
      "<class 'pandas.core.frame.DataFrame'>\n",
      "RangeIndex: 2463931 entries, 0 to 2463930\n",
      "Data columns (total 19 columns):\n",
      " #   Column                 Dtype         \n",
      "---  ------                 -----         \n",
      " 0   VendorID               int64         \n",
      " 1   tpep_pickup_datetime   datetime64[ns]\n",
      " 2   tpep_dropoff_datetime  datetime64[ns]\n",
      " 3   passenger_count        float64       \n",
      " 4   trip_distance          float64       \n",
      " 5   RatecodeID             float64       \n",
      " 6   store_and_fwd_flag     object        \n",
      " 7   PULocationID           int64         \n",
      " 8   DOLocationID           int64         \n",
      " 9   payment_type           int64         \n",
      " 10  fare_amount            float64       \n",
      " 11  extra                  float64       \n",
      " 12  mta_tax                float64       \n",
      " 13  tip_amount             float64       \n",
      " 14  tolls_amount           float64       \n",
      " 15  improvement_surcharge  float64       \n",
      " 16  total_amount           float64       \n",
      " 17  congestion_surcharge   float64       \n",
      " 18  airport_fee            float64       \n",
      "dtypes: datetime64[ns](2), float64(12), int64(4), object(1)\n",
      "memory usage: 357.2+ MB\n"
     ]
    }
   ],
   "source": [
    "nyc_df_train.info()"
   ],
   "metadata": {
    "collapsed": false,
    "ExecuteTime": {
     "end_time": "2023-05-20T09:33:26.249841Z",
     "start_time": "2023-05-20T09:33:26.221014Z"
    }
   }
  },
  {
   "cell_type": "markdown",
   "source": [
    "Since we will find the `duration` of the trips in minutes, the date time type is what we are looking for. We don't need to convert it to datetime type."
   ],
   "metadata": {
    "collapsed": false
   }
  },
  {
   "cell_type": "code",
   "execution_count": 43,
   "outputs": [
    {
     "data": {
      "text/plain": "   VendorID tpep_pickup_datetime tpep_dropoff_datetime  passenger_count  \\\n0         1  2022-01-01 00:35:40   2022-01-01 00:53:29              2.0   \n1         1  2022-01-01 00:33:43   2022-01-01 00:42:07              1.0   \n2         2  2022-01-01 00:53:21   2022-01-01 01:02:19              1.0   \n3         2  2022-01-01 00:25:21   2022-01-01 00:35:23              1.0   \n4         2  2022-01-01 00:36:48   2022-01-01 01:14:20              1.0   \n\n   trip_distance  RatecodeID store_and_fwd_flag  PULocationID  DOLocationID  \\\n0           3.80         1.0                  N           142           236   \n1           2.10         1.0                  N           236            42   \n2           0.97         1.0                  N           166           166   \n3           1.09         1.0                  N           114            68   \n4           4.30         1.0                  N            68           163   \n\n   payment_type  fare_amount  extra  mta_tax  tip_amount  tolls_amount  \\\n0             1         14.5    3.0      0.5        3.65           0.0   \n1             1          8.0    0.5      0.5        4.00           0.0   \n2             1          7.5    0.5      0.5        1.76           0.0   \n3             2          8.0    0.5      0.5        0.00           0.0   \n4             1         23.5    0.5      0.5        3.00           0.0   \n\n   improvement_surcharge  total_amount  congestion_surcharge  airport_fee  \\\n0                    0.3         21.95                   2.5          0.0   \n1                    0.3         13.30                   0.0          0.0   \n2                    0.3         10.56                   0.0          0.0   \n3                    0.3         11.80                   2.5          0.0   \n4                    0.3         30.30                   2.5          0.0   \n\n    duration  \n0  17.816667  \n1   8.400000  \n2   8.966667  \n3  10.033333  \n4  37.533333  ",
      "text/html": "<div>\n<style scoped>\n    .dataframe tbody tr th:only-of-type {\n        vertical-align: middle;\n    }\n\n    .dataframe tbody tr th {\n        vertical-align: top;\n    }\n\n    .dataframe thead th {\n        text-align: right;\n    }\n</style>\n<table border=\"1\" class=\"dataframe\">\n  <thead>\n    <tr style=\"text-align: right;\">\n      <th></th>\n      <th>VendorID</th>\n      <th>tpep_pickup_datetime</th>\n      <th>tpep_dropoff_datetime</th>\n      <th>passenger_count</th>\n      <th>trip_distance</th>\n      <th>RatecodeID</th>\n      <th>store_and_fwd_flag</th>\n      <th>PULocationID</th>\n      <th>DOLocationID</th>\n      <th>payment_type</th>\n      <th>fare_amount</th>\n      <th>extra</th>\n      <th>mta_tax</th>\n      <th>tip_amount</th>\n      <th>tolls_amount</th>\n      <th>improvement_surcharge</th>\n      <th>total_amount</th>\n      <th>congestion_surcharge</th>\n      <th>airport_fee</th>\n      <th>duration</th>\n    </tr>\n  </thead>\n  <tbody>\n    <tr>\n      <th>0</th>\n      <td>1</td>\n      <td>2022-01-01 00:35:40</td>\n      <td>2022-01-01 00:53:29</td>\n      <td>2.0</td>\n      <td>3.80</td>\n      <td>1.0</td>\n      <td>N</td>\n      <td>142</td>\n      <td>236</td>\n      <td>1</td>\n      <td>14.5</td>\n      <td>3.0</td>\n      <td>0.5</td>\n      <td>3.65</td>\n      <td>0.0</td>\n      <td>0.3</td>\n      <td>21.95</td>\n      <td>2.5</td>\n      <td>0.0</td>\n      <td>17.816667</td>\n    </tr>\n    <tr>\n      <th>1</th>\n      <td>1</td>\n      <td>2022-01-01 00:33:43</td>\n      <td>2022-01-01 00:42:07</td>\n      <td>1.0</td>\n      <td>2.10</td>\n      <td>1.0</td>\n      <td>N</td>\n      <td>236</td>\n      <td>42</td>\n      <td>1</td>\n      <td>8.0</td>\n      <td>0.5</td>\n      <td>0.5</td>\n      <td>4.00</td>\n      <td>0.0</td>\n      <td>0.3</td>\n      <td>13.30</td>\n      <td>0.0</td>\n      <td>0.0</td>\n      <td>8.400000</td>\n    </tr>\n    <tr>\n      <th>2</th>\n      <td>2</td>\n      <td>2022-01-01 00:53:21</td>\n      <td>2022-01-01 01:02:19</td>\n      <td>1.0</td>\n      <td>0.97</td>\n      <td>1.0</td>\n      <td>N</td>\n      <td>166</td>\n      <td>166</td>\n      <td>1</td>\n      <td>7.5</td>\n      <td>0.5</td>\n      <td>0.5</td>\n      <td>1.76</td>\n      <td>0.0</td>\n      <td>0.3</td>\n      <td>10.56</td>\n      <td>0.0</td>\n      <td>0.0</td>\n      <td>8.966667</td>\n    </tr>\n    <tr>\n      <th>3</th>\n      <td>2</td>\n      <td>2022-01-01 00:25:21</td>\n      <td>2022-01-01 00:35:23</td>\n      <td>1.0</td>\n      <td>1.09</td>\n      <td>1.0</td>\n      <td>N</td>\n      <td>114</td>\n      <td>68</td>\n      <td>2</td>\n      <td>8.0</td>\n      <td>0.5</td>\n      <td>0.5</td>\n      <td>0.00</td>\n      <td>0.0</td>\n      <td>0.3</td>\n      <td>11.80</td>\n      <td>2.5</td>\n      <td>0.0</td>\n      <td>10.033333</td>\n    </tr>\n    <tr>\n      <th>4</th>\n      <td>2</td>\n      <td>2022-01-01 00:36:48</td>\n      <td>2022-01-01 01:14:20</td>\n      <td>1.0</td>\n      <td>4.30</td>\n      <td>1.0</td>\n      <td>N</td>\n      <td>68</td>\n      <td>163</td>\n      <td>1</td>\n      <td>23.5</td>\n      <td>0.5</td>\n      <td>0.5</td>\n      <td>3.00</td>\n      <td>0.0</td>\n      <td>0.3</td>\n      <td>30.30</td>\n      <td>2.5</td>\n      <td>0.0</td>\n      <td>37.533333</td>\n    </tr>\n  </tbody>\n</table>\n</div>"
     },
     "execution_count": 43,
     "metadata": {},
     "output_type": "execute_result"
    }
   ],
   "source": [
    "nyc_df_train[\"duration\"] = nyc_df_train[\"tpep_dropoff_datetime\"]-nyc_df_train[\"tpep_pickup_datetime\"]\n",
    "nyc_df_train.duration = nyc_df_train.duration.apply(lambda td: td.total_seconds()/60)\n",
    "nyc_df_train.head()"
   ],
   "metadata": {
    "collapsed": false,
    "ExecuteTime": {
     "end_time": "2023-05-20T09:33:49.013374Z",
     "start_time": "2023-05-20T09:33:27.913647Z"
    }
   }
  },
  {
   "cell_type": "code",
   "execution_count": 44,
   "outputs": [
    {
     "name": "stdout",
     "output_type": "stream",
     "text": [
      "46.445295712725304\n",
      "46.44530513776802\n"
     ]
    }
   ],
   "source": [
    "import math\n",
    "\"\"\"\n",
    "The calculation of standard deviation is described as;\n",
    "std = sqrt(mean(x)) ,\n",
    "where x = abs(a - a.mean())**2 . The average squared deviation is typically calculated as x.sum() / N , where N = len(x)\n",
    "\"\"\"\n",
    "\n",
    "# according to that calculation description we can define our solution like below\n",
    "x = abs(nyc_df_train.duration-nyc_df_train.duration.mean())**2\n",
    "print(math.sqrt(x.sum() / len(x)))\n",
    "\n",
    "# we can also choose the easy way and use built-in function\n",
    "print(nyc_df_train.duration.std())\n",
    "\n",
    "# 46.45 is the right answer for this question"
   ],
   "metadata": {
    "collapsed": false,
    "ExecuteTime": {
     "end_time": "2023-05-20T09:33:49.246475Z",
     "start_time": "2023-05-20T09:33:49.011745Z"
    }
   }
  },
  {
   "cell_type": "markdown",
   "source": [
    "### Q3. Dropping outliers\n",
    "\n",
    "Next, we need to check the distribution of the `duration` variable. There are some outliers. Let's remove them and keep only the records where the duration was between 1 and 60 minutes (inclusive).\n",
    "\n",
    "What fraction of the records left after you dropped the outliers?"
   ],
   "metadata": {
    "collapsed": false
   }
  },
  {
   "cell_type": "code",
   "execution_count": 45,
   "outputs": [
    {
     "data": {
      "text/plain": "count    2.463931e+06\nmean     1.421220e+01\nstd      4.644531e+01\nmin     -3.442400e+03\n25%      6.316667e+00\n50%      1.018333e+01\n75%      1.616667e+01\nmax      8.513183e+03\nName: duration, dtype: float64"
     },
     "execution_count": 45,
     "metadata": {},
     "output_type": "execute_result"
    }
   ],
   "source": [
    "# The statistics of the duration column is:\n",
    "nyc_df_train.duration.describe()"
   ],
   "metadata": {
    "collapsed": false,
    "ExecuteTime": {
     "end_time": "2023-05-20T09:33:49.412919Z",
     "start_time": "2023-05-20T09:33:49.135283Z"
    }
   }
  },
  {
   "cell_type": "code",
   "execution_count": 46,
   "outputs": [
    {
     "data": {
      "text/plain": "VendorID                     0\ntpep_pickup_datetime         0\ntpep_dropoff_datetime        0\npassenger_count          71503\ntrip_distance                0\nRatecodeID               71503\nstore_and_fwd_flag       71503\nPULocationID                 0\nDOLocationID                 0\npayment_type                 0\nfare_amount                  0\nextra                        0\nmta_tax                      0\ntip_amount                   0\ntolls_amount                 0\nimprovement_surcharge        0\ntotal_amount                 0\ncongestion_surcharge     71503\nairport_fee              71503\nduration                     0\ndtype: int64"
     },
     "execution_count": 46,
     "metadata": {},
     "output_type": "execute_result"
    }
   ],
   "source": [
    "# Do we have null values in duration records? No\n",
    "nyc_df_train.isnull().sum()"
   ],
   "metadata": {
    "collapsed": false,
    "ExecuteTime": {
     "end_time": "2023-05-20T09:33:50.704176Z",
     "start_time": "2023-05-20T09:33:49.283673Z"
    }
   }
  },
  {
   "cell_type": "code",
   "execution_count": 47,
   "outputs": [
    {
     "data": {
      "text/plain": "<AxesSubplot: xlabel='duration', ylabel='Count'>"
     },
     "execution_count": 47,
     "metadata": {},
     "output_type": "execute_result"
    },
    {
     "data": {
      "text/plain": "<Figure size 640x480 with 1 Axes>",
      "image/png": "[encoded data removed]"
     },
     "metadata": {},
     "output_type": "display_data"
    }
   ],
   "source": [
    "# One of the best ways to describe a variable is to report the values that appear in the\n",
    "# dataset and how many times each value appears. This is called distribution of the variable.\n",
    "sns.histplot(nyc_df_train.duration)"
   ],
   "metadata": {
    "collapsed": false,
    "ExecuteTime": {
     "end_time": "2023-05-20T09:36:32.610092Z",
     "start_time": "2023-05-20T09:33:50.705772Z"
    }
   }
  },
  {
   "cell_type": "code",
   "execution_count": 48,
   "outputs": [
    {
     "name": "stdout",
     "output_type": "stream",
     "text": [
      "AxesSubplot(0.125,0.11;0.775x0.77)\n",
      "98.27547930522405 of the records left, after dropping outliers\n"
     ]
    },
    {
     "data": {
      "text/plain": "<Figure size 640x480 with 1 Axes>",
      "image/png": "[encoded data removed]"
     },
     "metadata": {},
     "output_type": "display_data"
    }
   ],
   "source": [
    "before_dropping_outliers = nyc_df_train.shape[0]\n",
    "nyc_dataframe = nyc_df_train[(nyc_df_train.duration >= 1) & (nyc_df_train.duration <= 60)]\n",
    "after_dropping_outliers = nyc_dataframe.shape[0]\n",
    "\n",
    "fraction_left = (after_dropping_outliers / before_dropping_outliers)*100\n",
    "\n",
    "# Let's look at the duration's histplot, after dropping outliers\n",
    "print(sns.histplot(nyc_dataframe.duration))\n",
    "\n",
    "print(f\"{fraction_left} of the records left, after dropping outliers\")\n"
   ],
   "metadata": {
    "collapsed": false,
    "ExecuteTime": {
     "end_time": "2023-05-20T09:36:56.409112Z",
     "start_time": "2023-05-20T09:36:32.607152Z"
    }
   }
  },
  {
   "cell_type": "markdown",
   "source": [
    "### Q4. One-hot encoding\n",
    "\n",
    "Let's apply one-hot encoding to the pickup and dropoff location IDs. We'll use only these two features for our model.\n",
    "What's the dimensionality of this matrix (number of columns)?"
   ],
   "metadata": {
    "collapsed": false
   }
  },
  {
   "cell_type": "markdown",
   "source": [
    "#### 1. Turn the dataframe into a list of dictionaries"
   ],
   "metadata": {
    "collapsed": false
   }
  },
  {
   "cell_type": "code",
   "execution_count": 49,
   "outputs": [
    {
     "name": "stderr",
     "output_type": "stream",
     "text": [
      "/var/folders/wm/l7fmyy290ll3tkb5lhcc03lw0000gn/T/ipykernel_12897/1363466135.py:8: SettingWithCopyWarning: \n",
      "A value is trying to be set on a copy of a slice from a DataFrame.\n",
      "Try using .loc[row_indexer,col_indexer] = value instead\n",
      "\n",
      "See the caveats in the documentation: https://pandas.pydata.org/pandas-docs/stable/user_guide/indexing.html#returning-a-view-versus-a-copy\n",
      "  nyc_dataframe[categorical_columns] = nyc_dataframe[categorical_columns].astype(str)\n"
     ]
    }
   ],
   "source": [
    "from sklearn.feature_extraction import DictVectorizer\n",
    "\n",
    "# initialize the Dictionary Vectorizer\n",
    "dv = DictVectorizer()\n",
    "\n",
    "# let's choose our categorical fields\n",
    "categorical_columns = ['PULocationID', 'DOLocationID']\n",
    "nyc_dataframe[categorical_columns] = nyc_dataframe[categorical_columns].astype(str)\n",
    "\n",
    "# turn selected columns into a list of dictionaries\n",
    "train_dicts = nyc_dataframe[categorical_columns].to_dict(orient='records')"
   ],
   "metadata": {
    "collapsed": false,
    "ExecuteTime": {
     "end_time": "2023-05-20T09:36:57.104846Z",
     "start_time": "2023-05-20T09:36:56.006468Z"
    }
   }
  },
  {
   "cell_type": "markdown",
   "source": [
    "#### 2. Fit a dictionary vectorizer"
   ],
   "metadata": {
    "collapsed": false
   }
  },
  {
   "cell_type": "code",
   "execution_count": 50,
   "outputs": [],
   "source": [
    "X_train = dv.fit_transform(train_dicts)"
   ],
   "metadata": {
    "collapsed": false,
    "ExecuteTime": {
     "end_time": "2023-05-20T09:36:57.114008Z",
     "start_time": "2023-05-20T09:36:56.011146Z"
    }
   }
  },
  {
   "cell_type": "markdown",
   "source": [
    "#### 3. Get a feature matrix from it"
   ],
   "metadata": {
    "collapsed": false
   }
  },
  {
   "cell_type": "code",
   "execution_count": 51,
   "outputs": [
    {
     "name": "stdout",
     "output_type": "stream",
     "text": [
      "The dimensionality of this matrix is, (2421440, 515)\n"
     ]
    }
   ],
   "source": [
    "print(f\"The dimensionality of this matrix is, {X_train.shape}\")"
   ],
   "metadata": {
    "collapsed": false,
    "ExecuteTime": {
     "end_time": "2023-05-20T09:36:57.114922Z",
     "start_time": "2023-05-20T09:36:56.105469Z"
    }
   }
  },
  {
   "cell_type": "code",
   "execution_count": 52,
   "outputs": [
    {
     "name": "stdout",
     "output_type": "stream",
     "text": [
      "The number of columns of this matrix is, 515\n"
     ]
    }
   ],
   "source": [
    "print(f\"The number of columns of this matrix is, {X_train.shape[1]}\")"
   ],
   "metadata": {
    "collapsed": false,
    "ExecuteTime": {
     "end_time": "2023-05-20T09:36:57.115528Z",
     "start_time": "2023-05-20T09:36:56.106911Z"
    }
   }
  },
  {
   "cell_type": "markdown",
   "source": [
    "### Q5. Training a model\n",
    "Now let's use the feature matrix from the previous step to train a model. What's the RMSE on train?\n",
    "#### 1. Train a plain linear regression model with default parameters"
   ],
   "metadata": {
    "collapsed": false
   }
  },
  {
   "cell_type": "code",
   "execution_count": 53,
   "outputs": [
    {
     "data": {
      "text/plain": "LinearRegression()",
      "text/html": "<style>#sk-container-id-2 {color: black;background-color: white;}#sk-container-id-2 pre{padding: 0;}#sk-container-id-2 div.sk-toggleable {background-color: white;}#sk-container-id-2 label.sk-toggleable__label {cursor: pointer;display: block;width: 100%;margin-bottom: 0;padding: 0.3em;box-sizing: border-box;text-align: center;}#sk-container-id-2 label.sk-toggleable__label-arrow:before {content: \"▸\";float: left;margin-right: 0.25em;color: #696969;}#sk-container-id-2 label.sk-toggleable__label-arrow:hover:before {color: black;}#sk-container-id-2 div.sk-estimator:hover label.sk-toggleable__label-arrow:before {color: black;}#sk-container-id-2 div.sk-toggleable__content {max-height: 0;max-width: 0;overflow: hidden;text-align: left;background-color: #f0f8ff;}#sk-container-id-2 div.sk-toggleable__content pre {margin: 0.2em;color: black;border-radius: 0.25em;background-color: #f0f8ff;}#sk-container-id-2 input.sk-toggleable__control:checked~div.sk-toggleable__content {max-height: 200px;max-width: 100%;overflow: auto;}#sk-container-id-2 input.sk-toggleable__control:checked~label.sk-toggleable__label-arrow:before {content: \"▾\";}#sk-container-id-2 div.sk-estimator input.sk-toggleable__control:checked~label.sk-toggleable__label {background-color: #d4ebff;}#sk-container-id-2 div.sk-label input.sk-toggleable__control:checked~label.sk-toggleable__label {background-color: #d4ebff;}#sk-container-id-2 input.sk-hidden--visually {border: 0;clip: rect(1px 1px 1px 1px);clip: rect(1px, 1px, 1px, 1px);height: 1px;margin: -1px;overflow: hidden;padding: 0;position: absolute;width: 1px;}#sk-container-id-2 div.sk-estimator {font-family: monospace;background-color: #f0f8ff;border: 1px dotted black;border-radius: 0.25em;box-sizing: border-box;margin-bottom: 0.5em;}#sk-container-id-2 div.sk-estimator:hover {background-color: #d4ebff;}#sk-container-id-2 div.sk-parallel-item::after {content: \"\";width: 100%;border-bottom: 1px solid gray;flex-grow: 1;}#sk-container-id-2 div.sk-label:hover label.sk-toggleable__label {background-color: #d4ebff;}#sk-container-id-2 div.sk-serial::before {content: \"\";position: absolute;border-left: 1px solid gray;box-sizing: border-box;top: 0;bottom: 0;left: 50%;z-index: 0;}#sk-container-id-2 div.sk-serial {display: flex;flex-direction: column;align-items: center;background-color: white;padding-right: 0.2em;padding-left: 0.2em;position: relative;}#sk-container-id-2 div.sk-item {position: relative;z-index: 1;}#sk-container-id-2 div.sk-parallel {display: flex;align-items: stretch;justify-content: center;background-color: white;position: relative;}#sk-container-id-2 div.sk-item::before, #sk-container-id-2 div.sk-parallel-item::before {content: \"\";position: absolute;border-left: 1px solid gray;box-sizing: border-box;top: 0;bottom: 0;left: 50%;z-index: -1;}#sk-container-id-2 div.sk-parallel-item {display: flex;flex-direction: column;z-index: 1;position: relative;background-color: white;}#sk-container-id-2 div.sk-parallel-item:first-child::after {align-self: flex-end;width: 50%;}#sk-container-id-2 div.sk-parallel-item:last-child::after {align-self: flex-start;width: 50%;}#sk-container-id-2 div.sk-parallel-item:only-child::after {width: 0;}#sk-container-id-2 div.sk-dashed-wrapped {border: 1px dashed gray;margin: 0 0.4em 0.5em 0.4em;box-sizing: border-box;padding-bottom: 0.4em;background-color: white;}#sk-container-id-2 div.sk-label label {font-family: monospace;font-weight: bold;display: inline-block;line-height: 1.2em;}#sk-container-id-2 div.sk-label-container {text-align: center;}#sk-container-id-2 div.sk-container {/* jupyter's `normalize.less` sets `[hidden] { display: none; }` but bootstrap.min.css set `[hidden] { display: none !important; }` so we also need the `!important` here to be able to override the default hidden behavior on the sphinx rendered scikit-learn.org. See: https://github.com/scikit-learn/scikit-learn/issues/21755 */display: inline-block !important;position: relative;}#sk-container-id-2 div.sk-text-repr-fallback {display: none;}</style><div id=\"sk-container-id-2\" class=\"sk-top-container\"><div class=\"sk-text-repr-fallback\"><pre>LinearRegression()</pre><b>In a Jupyter environment, please rerun this cell to show the HTML representation or trust the notebook. <br />On GitHub, the HTML representation is unable to render, please try loading this page with nbviewer.org.</b></div><div class=\"sk-container\" hidden><div class=\"sk-item\"><div class=\"sk-estimator sk-toggleable\"><input class=\"sk-toggleable__control sk-hidden--visually\" id=\"sk-estimator-id-2\" type=\"checkbox\" checked><label for=\"sk-estimator-id-2\" class=\"sk-toggleable__label sk-toggleable__label-arrow\">LinearRegression</label><div class=\"sk-toggleable__content\"><pre>LinearRegression()</pre></div></div></div></div></div>"
     },
     "execution_count": 53,
     "metadata": {},
     "output_type": "execute_result"
    }
   ],
   "source": [
    "# import Linear Regression and mean_squared_error from sklearn\n",
    "from sklearn.linear_model import LinearRegression\n",
    "from sklearn.metrics import mean_squared_error\n",
    "\n",
    "# initialize linear regression\n",
    "lr = LinearRegression()\n",
    "\n",
    "# define target field\n",
    "y = 'duration'\n",
    "\n",
    "# select target values from original dataframe to train\n",
    "y_train = nyc_dataframe[y].values\n",
    "\n",
    "lr.fit(X_train, y_train)"
   ],
   "metadata": {
    "collapsed": false,
    "ExecuteTime": {
     "end_time": "2023-05-20T09:37:38.137504Z",
     "start_time": "2023-05-20T09:36:56.107399Z"
    }
   }
  },
  {
   "cell_type": "markdown",
   "source": [
    "####  2. Calculate the RMSE of the model on the training data"
   ],
   "metadata": {
    "collapsed": false
   }
  },
  {
   "cell_type": "code",
   "execution_count": 54,
   "outputs": [
    {
     "data": {
      "text/plain": "6.986191065500608"
     },
     "execution_count": 54,
     "metadata": {},
     "output_type": "execute_result"
    }
   ],
   "source": [
    "# to calculate root mean squared error, we need to get predictions\n",
    "y_predictions = lr.predict(X_train)\n",
    "mean_squared_error(y_train, y_predictions, squared=False)"
   ],
   "metadata": {
    "collapsed": false,
    "ExecuteTime": {
     "end_time": "2023-05-20T09:49:24.861016Z",
     "start_time": "2023-05-20T09:49:24.776443Z"
    }
   }
  },
  {
   "cell_type": "markdown",
   "source": [
    "### Q6. Evaluating the model\n",
    "\n",
    "Now let's apply this model to the validation dataset (February 2022).\n",
    "What's the RMSE on validation?"
   ],
   "metadata": {
    "collapsed": false
   }
  },
  {
   "cell_type": "code",
   "execution_count": 68,
   "outputs": [],
   "source": [
    "# This is NYC Dataset of February. We will use it for validation\n",
    "nyc_df_val = pd.read_parquet('../data/yellow_tripdata_2022-02.parquet')"
   ],
   "metadata": {
    "collapsed": false,
    "ExecuteTime": {
     "end_time": "2023-05-20T10:23:25.407326Z",
     "start_time": "2023-05-20T10:23:23.887034Z"
    }
   }
  },
  {
   "cell_type": "code",
   "execution_count": 70,
   "outputs": [
    {
     "name": "stdout",
     "output_type": "stream",
     "text": [
      "Number of columns are:  19\n"
     ]
    }
   ],
   "source": [
    "print(\"Number of columns are: \", nyc_df_val.shape[1])"
   ],
   "metadata": {
    "collapsed": false,
    "ExecuteTime": {
     "end_time": "2023-05-20T10:23:35.077175Z",
     "start_time": "2023-05-20T10:23:35.064120Z"
    }
   }
  },
  {
   "cell_type": "code",
   "execution_count": 71,
   "outputs": [
    {
     "name": "stdout",
     "output_type": "stream",
     "text": [
      "<class 'pandas.core.frame.DataFrame'>\n",
      "RangeIndex: 2979431 entries, 0 to 2979430\n",
      "Data columns (total 19 columns):\n",
      " #   Column                 Dtype         \n",
      "---  ------                 -----         \n",
      " 0   VendorID               int64         \n",
      " 1   tpep_pickup_datetime   datetime64[ns]\n",
      " 2   tpep_dropoff_datetime  datetime64[ns]\n",
      " 3   passenger_count        float64       \n",
      " 4   trip_distance          float64       \n",
      " 5   RatecodeID             float64       \n",
      " 6   store_and_fwd_flag     object        \n",
      " 7   PULocationID           int64         \n",
      " 8   DOLocationID           int64         \n",
      " 9   payment_type           int64         \n",
      " 10  fare_amount            float64       \n",
      " 11  extra                  float64       \n",
      " 12  mta_tax                float64       \n",
      " 13  tip_amount             float64       \n",
      " 14  tolls_amount           float64       \n",
      " 15  improvement_surcharge  float64       \n",
      " 16  total_amount           float64       \n",
      " 17  congestion_surcharge   float64       \n",
      " 18  airport_fee            float64       \n",
      "dtypes: datetime64[ns](2), float64(12), int64(4), object(1)\n",
      "memory usage: 431.9+ MB\n"
     ]
    }
   ],
   "source": [
    "# Let's check info\n",
    "nyc_df_val.info()"
   ],
   "metadata": {
    "collapsed": false,
    "ExecuteTime": {
     "end_time": "2023-05-20T10:23:36.125963Z",
     "start_time": "2023-05-20T10:23:36.103904Z"
    }
   }
  },
  {
   "cell_type": "code",
   "execution_count": 72,
   "outputs": [],
   "source": [
    "# choose the same arrange of data as train dataset\n",
    "nyc_df_val[\"duration\"] = nyc_df_val.tpep_dropoff_datetime - nyc_df_val.tpep_pickup_datetime\n",
    "nyc_df_val.duration = nyc_df_val.duration.apply(lambda td: td.total_seconds() / 60)\n",
    "\n",
    "nyc_dataframe_val = nyc_df_val[(nyc_df_val.duration >= 1) & (nyc_df_val.duration <= 60)]"
   ],
   "metadata": {
    "collapsed": false,
    "ExecuteTime": {
     "end_time": "2023-05-20T10:24:01.661903Z",
     "start_time": "2023-05-20T10:23:46.898651Z"
    }
   }
  },
  {
   "cell_type": "code",
   "execution_count": 73,
   "outputs": [
    {
     "data": {
      "text/plain": "   VendorID tpep_pickup_datetime tpep_dropoff_datetime  passenger_count  \\\n0         1  2022-02-01 00:06:58   2022-02-01 00:19:24              1.0   \n1         1  2022-02-01 00:38:22   2022-02-01 00:55:55              1.0   \n2         1  2022-02-01 00:03:20   2022-02-01 00:26:59              1.0   \n3         2  2022-02-01 00:08:00   2022-02-01 00:28:05              1.0   \n4         2  2022-02-01 00:06:48   2022-02-01 00:33:07              1.0   \n\n   trip_distance  RatecodeID store_and_fwd_flag  PULocationID  DOLocationID  \\\n0           5.40         1.0                  N           138           252   \n1           6.40         1.0                  N           138            41   \n2          12.50         1.0                  N           138           200   \n3           9.88         1.0                  N           239           200   \n4          12.16         1.0                  N           138           125   \n\n   payment_type  fare_amount  extra  mta_tax  tip_amount  tolls_amount  \\\n0             1         17.0   1.75      0.5        3.90          0.00   \n1             2         21.0   1.75      0.5        0.00          6.55   \n2             2         35.5   1.75      0.5        0.00          6.55   \n3             2         28.0   0.50      0.5        0.00          3.00   \n4             1         35.5   0.50      0.5        8.11          0.00   \n\n   improvement_surcharge  total_amount  congestion_surcharge  airport_fee  \\\n0                    0.3         23.45                   0.0         1.25   \n1                    0.3         30.10                   0.0         1.25   \n2                    0.3         44.60                   0.0         1.25   \n3                    0.3         34.80                   2.5         0.00   \n4                    0.3         48.66                   2.5         1.25   \n\n    duration  \n0  12.433333  \n1  17.550000  \n2  23.650000  \n3  20.083333  \n4  26.316667  ",
      "text/html": "<div>\n<style scoped>\n    .dataframe tbody tr th:only-of-type {\n        vertical-align: middle;\n    }\n\n    .dataframe tbody tr th {\n        vertical-align: top;\n    }\n\n    .dataframe thead th {\n        text-align: right;\n    }\n</style>\n<table border=\"1\" class=\"dataframe\">\n  <thead>\n    <tr style=\"text-align: right;\">\n      <th></th>\n      <th>VendorID</th>\n      <th>tpep_pickup_datetime</th>\n      <th>tpep_dropoff_datetime</th>\n      <th>passenger_count</th>\n      <th>trip_distance</th>\n      <th>RatecodeID</th>\n      <th>store_and_fwd_flag</th>\n      <th>PULocationID</th>\n      <th>DOLocationID</th>\n      <th>payment_type</th>\n      <th>fare_amount</th>\n      <th>extra</th>\n      <th>mta_tax</th>\n      <th>tip_amount</th>\n      <th>tolls_amount</th>\n      <th>improvement_surcharge</th>\n      <th>total_amount</th>\n      <th>congestion_surcharge</th>\n      <th>airport_fee</th>\n      <th>duration</th>\n    </tr>\n  </thead>\n  <tbody>\n    <tr>\n      <th>0</th>\n      <td>1</td>\n      <td>2022-02-01 00:06:58</td>\n      <td>2022-02-01 00:19:24</td>\n      <td>1.0</td>\n      <td>5.40</td>\n      <td>1.0</td>\n      <td>N</td>\n      <td>138</td>\n      <td>252</td>\n      <td>1</td>\n      <td>17.0</td>\n      <td>1.75</td>\n      <td>0.5</td>\n      <td>3.90</td>\n      <td>0.00</td>\n      <td>0.3</td>\n      <td>23.45</td>\n      <td>0.0</td>\n      <td>1.25</td>\n      <td>12.433333</td>\n    </tr>\n    <tr>\n      <th>1</th>\n      <td>1</td>\n      <td>2022-02-01 00:38:22</td>\n      <td>2022-02-01 00:55:55</td>\n      <td>1.0</td>\n      <td>6.40</td>\n      <td>1.0</td>\n      <td>N</td>\n      <td>138</td>\n      <td>41</td>\n      <td>2</td>\n      <td>21.0</td>\n      <td>1.75</td>\n      <td>0.5</td>\n      <td>0.00</td>\n      <td>6.55</td>\n      <td>0.3</td>\n      <td>30.10</td>\n      <td>0.0</td>\n      <td>1.25</td>\n      <td>17.550000</td>\n    </tr>\n    <tr>\n      <th>2</th>\n      <td>1</td>\n      <td>2022-02-01 00:03:20</td>\n      <td>2022-02-01 00:26:59</td>\n      <td>1.0</td>\n      <td>12.50</td>\n      <td>1.0</td>\n      <td>N</td>\n      <td>138</td>\n      <td>200</td>\n      <td>2</td>\n      <td>35.5</td>\n      <td>1.75</td>\n      <td>0.5</td>\n      <td>0.00</td>\n      <td>6.55</td>\n      <td>0.3</td>\n      <td>44.60</td>\n      <td>0.0</td>\n      <td>1.25</td>\n      <td>23.650000</td>\n    </tr>\n    <tr>\n      <th>3</th>\n      <td>2</td>\n      <td>2022-02-01 00:08:00</td>\n      <td>2022-02-01 00:28:05</td>\n      <td>1.0</td>\n      <td>9.88</td>\n      <td>1.0</td>\n      <td>N</td>\n      <td>239</td>\n      <td>200</td>\n      <td>2</td>\n      <td>28.0</td>\n      <td>0.50</td>\n      <td>0.5</td>\n      <td>0.00</td>\n      <td>3.00</td>\n      <td>0.3</td>\n      <td>34.80</td>\n      <td>2.5</td>\n      <td>0.00</td>\n      <td>20.083333</td>\n    </tr>\n    <tr>\n      <th>4</th>\n      <td>2</td>\n      <td>2022-02-01 00:06:48</td>\n      <td>2022-02-01 00:33:07</td>\n      <td>1.0</td>\n      <td>12.16</td>\n      <td>1.0</td>\n      <td>N</td>\n      <td>138</td>\n      <td>125</td>\n      <td>1</td>\n      <td>35.5</td>\n      <td>0.50</td>\n      <td>0.5</td>\n      <td>8.11</td>\n      <td>0.00</td>\n      <td>0.3</td>\n      <td>48.66</td>\n      <td>2.5</td>\n      <td>1.25</td>\n      <td>26.316667</td>\n    </tr>\n  </tbody>\n</table>\n</div>"
     },
     "execution_count": 73,
     "metadata": {},
     "output_type": "execute_result"
    }
   ],
   "source": [
    "nyc_dataframe_val.head()"
   ],
   "metadata": {
    "collapsed": false,
    "ExecuteTime": {
     "end_time": "2023-05-20T10:24:03.965783Z",
     "start_time": "2023-05-20T10:24:03.943589Z"
    }
   }
  },
  {
   "cell_type": "code",
   "execution_count": 74,
   "outputs": [
    {
     "name": "stderr",
     "output_type": "stream",
     "text": [
      "/var/folders/wm/l7fmyy290ll3tkb5lhcc03lw0000gn/T/ipykernel_12897/2286072838.py:2: SettingWithCopyWarning: \n",
      "A value is trying to be set on a copy of a slice from a DataFrame.\n",
      "Try using .loc[row_indexer,col_indexer] = value instead\n",
      "\n",
      "See the caveats in the documentation: https://pandas.pydata.org/pandas-docs/stable/user_guide/indexing.html#returning-a-view-versus-a-copy\n",
      "  nyc_dataframe_val[categorical_columns] = nyc_dataframe_val[categorical_columns].astype(str)\n"
     ]
    }
   ],
   "source": [
    "# turn selected columns into a list of dictionaries\n",
    "nyc_dataframe_val[categorical_columns] = nyc_dataframe_val[categorical_columns].astype(str)\n",
    "val_dicts = nyc_dataframe_val[categorical_columns].to_dict(orient='records')"
   ],
   "metadata": {
    "collapsed": false,
    "ExecuteTime": {
     "end_time": "2023-05-20T10:24:31.349175Z",
     "start_time": "2023-05-20T10:24:18.963882Z"
    }
   }
  },
  {
   "cell_type": "code",
   "execution_count": 75,
   "outputs": [],
   "source": [
    "# This time we just do the transform without fitting to get X_val\n",
    "X_val = dv.transform(val_dicts)\n",
    "\n",
    "# select target values for validation\n",
    "y_val = nyc_dataframe_val['duration'].values"
   ],
   "metadata": {
    "collapsed": false,
    "ExecuteTime": {
     "end_time": "2023-05-20T10:24:41.208948Z",
     "start_time": "2023-05-20T10:24:32.894482Z"
    }
   }
  },
  {
   "cell_type": "code",
   "execution_count": 76,
   "outputs": [],
   "source": [
    "# Let's make predictions\n",
    "y_val_predictions = lr.predict(X_val)"
   ],
   "metadata": {
    "collapsed": false,
    "ExecuteTime": {
     "end_time": "2023-05-20T10:24:42.688352Z",
     "start_time": "2023-05-20T10:24:42.636596Z"
    }
   }
  },
  {
   "cell_type": "code",
   "execution_count": 77,
   "outputs": [
    {
     "data": {
      "text/plain": "7.786408015215065"
     },
     "execution_count": 77,
     "metadata": {},
     "output_type": "execute_result"
    }
   ],
   "source": [
    "# ...and lastly, we check the score\n",
    "mean_squared_error(y_val, y_val_predictions, squared=False)"
   ],
   "metadata": {
    "collapsed": false,
    "ExecuteTime": {
     "end_time": "2023-05-20T10:24:45.660014Z",
     "start_time": "2023-05-20T10:24:45.582724Z"
    }
   }
  },
  {
   "cell_type": "code",
   "execution_count": null,
   "outputs": [],
   "source": [],
   "metadata": {
    "collapsed": false
   }
  }
 ],
 "metadata": {
  "kernelspec": {
   "display_name": "Python 3",
   "language": "python",
   "name": "python3"
  },
  "language_info": {
   "codemirror_mode": {
    "name": "ipython",
    "version": 2
   },
   "file_extension": ".py",
   "mimetype": "text/x-python",
   "name": "python",
   "nbconvert_exporter": "python",
   "pygments_lexer": "ipython2",
   "version": "2.7.6"
  }
 },
 "nbformat": 4,
 "nbformat_minor": 0
}
